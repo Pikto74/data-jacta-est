{
 "cells": [
  {
   "cell_type": "markdown",
   "metadata": {
    "collapsed": true
   },
   "source": [
    "# Exploring Hacker News Posts #\n",
    "\n",
    "In this project we will be using a dataset from the famous tech website Hacker News.\n",
    "\n",
    "On this website, people can posts articles, questions, their pieces of works, any kind of content... Just like on Reddit, those posts can be upvoted (gain points) and commented.\n",
    "\n",
    "We have a dataset of 300.000 rows that corresponds to the different posts posted with the date when they were posted, the number of points, of comments, and so on...\n",
    "\n",
    "We reduced that dataset to 20.000 rows, getting rid of all the posts withtout any comments.\n",
    "\n",
    "We will focus mainly on two types of posts : \n",
    "\n",
    "1. The 'Ask HN' posts where people ask a question to the community\n",
    "2. The 'Show HN' posts where people share their work to the community\n",
    "\n",
    "We will go through this dataset and try to analyze the data : do a post created a certain time receive more comments? How can we compare those two subcategories of posts that are Ask HN and Show HN?\n",
    "\n",
    "First let's open our .csv file, create a list of lists and separate the names of the colum from the rest of the dataset\n"
   ]
  },
  {
   "cell_type": "code",
   "execution_count": 1,
   "metadata": {},
   "outputs": [],
   "source": [
    "from csv import reader\n",
    "opened_file = open(\"hacker_news.csv\")\n",
    "read_file = reader(opened_file)\n",
    "hn = list(read_file)\n",
    "hn_header = hn[:1] \n",
    "hn = hn[1:]"
   ]
  },
  {
   "cell_type": "markdown",
   "metadata": {},
   "source": [
    "Let's focus on our two categories and calculate the number of Show HN and Ask HN posts by using the 'startswith' method and taking care of the lower cases.\n",
    "\n",
    "We will divide the posts in 3 list of lists."
   ]
  },
  {
   "cell_type": "code",
   "execution_count": 2,
   "metadata": {},
   "outputs": [
    {
     "name": "stdout",
     "output_type": "stream",
     "text": [
      "1744\n",
      "1162\n",
      "18938\n"
     ]
    }
   ],
   "source": [
    "ask_posts = []\n",
    "show_posts = []\n",
    "other_posts = []\n",
    "\n",
    "for row in hn:\n",
    "    title = row[1]\n",
    "    if title.lower().startswith(\"ask hn\"):\n",
    "        ask_posts.append(row)\n",
    "    if title.lower().startswith(\"show hn\"):\n",
    "        show_posts.append(row)\n",
    "    else:\n",
    "        other_posts.append(row)\n",
    "        \n",
    "print(len(ask_posts))\n",
    "print(len(show_posts))\n",
    "print(len(other_posts))"
   ]
  },
  {
   "cell_type": "markdown",
   "metadata": {},
   "source": [
    "We can see that they are more Ask HN than Show HN posts, even if the majority of the posts are neither Ask or Show HN posts.\n",
    "\n",
    "We will now calculate the average number of comment for each of these categories."
   ]
  },
  {
   "cell_type": "code",
   "execution_count": 3,
   "metadata": {},
   "outputs": [
    {
     "name": "stdout",
     "output_type": "stream",
     "text": [
      "14.038417431192661\n",
      "10.31669535283993\n"
     ]
    }
   ],
   "source": [
    "total_ask_comments = 0\n",
    "\n",
    "for row in ask_posts:\n",
    "    num_comments = int(row[4])\n",
    "    total_ask_comments += num_comments\n",
    "    \n",
    "avg_ask_comments = total_ask_comments/len(ask_posts) \n",
    "\n",
    "total_show_comments = 0\n",
    "\n",
    "for row in show_posts:\n",
    "    num_comments = int(row[4])\n",
    "    total_show_comments += num_comments\n",
    "    \n",
    "avg_show_comments = total_show_comments/len(show_posts) \n",
    "\n",
    "print(avg_ask_comments)\n",
    "print(avg_show_comments)"
   ]
  },
  {
   "cell_type": "markdown",
   "metadata": {},
   "source": [
    "We can see that Ask HN posts receive in average 14 comments whereas it is only 10 for Show HN posts. \n",
    "This could be explained by the fact that people loves to explain to questions and show their knowledge. Plus, this could lead to people arguing baout the best method to answer the issue raised in the question of the post, generating even more comments.\n",
    "\n",
    "Now let's focus on the timing of those posts. We want to know :\n",
    "\n",
    "- at what hour people tends to posts Ask HN posts \n",
    "- if the number of comments received is linked to a specific time of the day!\n",
    "\n",
    "We will use the datetime module and the strptime and strftime method to help us!"
   ]
  },
  {
   "cell_type": "code",
   "execution_count": 4,
   "metadata": {},
   "outputs": [],
   "source": [
    "import datetime as dt\n",
    "\n",
    "result_list = []\n",
    "\n",
    "for row in ask_posts:\n",
    "    result_list.append([row[6],int(row[4])]) #We add the date of posting and the number of comments\n",
    "\n",
    "    \n",
    "counts_by_hour = {}\n",
    "comments_by_hour = {}\n",
    "\n",
    "for row in result_list:\n",
    "    post_time = row[0]\n",
    "    nb_comment = row[1]\n",
    "    post_time = dt.datetime.strptime(post_time, \"%m/%d/%Y %H:%M\")\n",
    "    post_hour = post_time.strftime(\"%H\")\n",
    "    if post_hour not in counts_by_hour:\n",
    "        counts_by_hour[post_hour] = 1\n",
    "        comments_by_hour[post_hour] = nb_comment\n",
    "    else:\n",
    "        counts_by_hour[post_hour] += 1\n",
    "        comments_by_hour[post_hour] += nb_comment\n",
    "        \n",
    "\n"
   ]
  },
  {
   "cell_type": "markdown",
   "metadata": {},
   "source": [
    "Now that we have a dictionnary with :\n",
    "\n",
    "- the number of Ask HN posts per hour \n",
    "- the number of comments per hour\n",
    "\n",
    "Let's calculate the average number of comments per post for posts created during each hour of the day and add it to a new list of lists"
   ]
  },
  {
   "cell_type": "code",
   "execution_count": 5,
   "metadata": {},
   "outputs": [
    {
     "name": "stdout",
     "output_type": "stream",
     "text": [
      "[['09', 5.5777777777777775], ['13', 14.741176470588234], ['10', 13.440677966101696], ['14', 13.233644859813085], ['16', 16.796296296296298], ['23', 7.985294117647059], ['12', 9.41095890410959], ['17', 11.46], ['15', 38.5948275862069], ['21', 16.009174311926607], ['20', 21.525], ['02', 23.810344827586206], ['18', 13.20183486238532], ['03', 7.796296296296297], ['05', 10.08695652173913], ['19', 10.8], ['01', 11.383333333333333], ['22', 6.746478873239437], ['08', 10.25], ['04', 7.170212765957447], ['00', 8.127272727272727], ['06', 9.022727272727273], ['07', 7.852941176470588], ['11', 11.051724137931034]]\n"
     ]
    }
   ],
   "source": [
    "avg_by_hour = []\n",
    "\n",
    "for hour in counts_by_hour:\n",
    "    avg_by_hour.append([hour, comments_by_hour[hour]/counts_by_hour[hour]])\n",
    "    \n",
    "print(avg_by_hour)"
   ]
  },
  {
   "cell_type": "markdown",
   "metadata": {},
   "source": [
    "We now have the results we wanted but they are not easy to read, let's fix that!"
   ]
  },
  {
   "cell_type": "code",
   "execution_count": 6,
   "metadata": {},
   "outputs": [
    {
     "name": "stdout",
     "output_type": "stream",
     "text": [
      "Top 5 Hours for Ask Posts Comments\n",
      "15:00: 38.59 average comments per post\n",
      "02:00: 23.81 average comments per post\n",
      "20:00: 21.52 average comments per post\n",
      "16:00: 16.80 average comments per post\n",
      "21:00: 16.01 average comments per post\n"
     ]
    }
   ],
   "source": [
    "swap_avg_by_hour = []\n",
    "\n",
    "for i in avg_by_hour:\n",
    "    hour = i[0]\n",
    "    avg = i[1]\n",
    "    swap_avg_by_hour.append([avg,hour])\n",
    "    \n",
    "sorted_swap = sorted(swap_avg_by_hour, reverse = True)\n",
    "\n",
    "print(\"Top 5 Hours for Ask Posts Comments\")\n",
    "\n",
    "for i in sorted_swap[0:5]:\n",
    "        hour = i[1]\n",
    "        hour = dt.datetime.strptime(i[1],\"%H\")\n",
    "        hour = hour.strftime(\"%H:%M\")\n",
    "        avg = i[0]\n",
    "        print(\"{}: {:.2f} average comments per post\".format(hour,avg))\n",
    "                                                  \n",
    "                                        "
   ]
  },
  {
   "cell_type": "markdown",
   "metadata": {},
   "source": [
    "From the results above it seems that the best time to post a Ask HN post would be at 15:00 (3 pm) in Eastern Time in US, which is -6 hours compare to here, in France. \n",
    "\n",
    "This could explain why posts that are posted at 15:00 and 16:00 receive so many comments, it corresponds to 21:00 and 20:00 in Central EU Time Zone. So we can assume that a lot of visitors on HN Website are Europeans!\n",
    "\n",
    "We can see that posts posted at 02:00 receive a lot comments, this could be linked to the fact that 02:00 esatern US corresponds to 23:00 in Western US (Los Angeles, San Fransisco...).\n",
    "\n",
    "\n",
    "\n",
    "\n"
   ]
  },
  {
   "cell_type": "markdown",
   "metadata": {},
   "source": [
    "\n",
    "### The points ###\n",
    "\n",
    "Now let's focus on the points earned on each posts, like we did for the comments.\n",
    "\n",
    "Let's see if show or ask posts receive more points on average."
   ]
  },
  {
   "cell_type": "code",
   "execution_count": 7,
   "metadata": {},
   "outputs": [
    {
     "name": "stdout",
     "output_type": "stream",
     "text": [
      "15.061926605504587\n",
      "27.555077452667813\n"
     ]
    }
   ],
   "source": [
    "total_ask_points = 0\n",
    "\n",
    "for row in ask_posts:\n",
    "    num_points = int(row[3])\n",
    "    total_ask_points += num_points\n",
    "    \n",
    "avg_ask_points = total_ask_points/len(ask_posts) \n",
    "\n",
    "total_show_points = 0\n",
    "\n",
    "for row in show_posts:\n",
    "    num_points = int(row[3])\n",
    "    total_show_points += num_points\n",
    "    \n",
    "avg_show_points = total_show_points/len(show_posts) \n",
    "\n",
    "print(avg_ask_points)\n",
    "print(avg_show_points)"
   ]
  },
  {
   "cell_type": "markdown",
   "metadata": {},
   "source": [
    "In the \"Comment\" part above, we saw that Ask HN generated more comments than Show HN posts (14 vs 10 comments in average).\n",
    "\n",
    "However we can see that Show HN posts received far more points than Ask HN points (27,6 vs 15,1 in average)\n",
    "\n",
    "This could be explained by the fact that people \"upvotes\" the work of others in acknowledgement, they \"like\" the content, just like on Facebook for instance.\n",
    "\n",
    "Now let's determine if Ask HN created at a certain time are more likely to receive more points. We will follow the same process as before, calculating the average of points received at each hour."
   ]
  },
  {
   "cell_type": "code",
   "execution_count": 24,
   "metadata": {},
   "outputs": [
    {
     "name": "stdout",
     "output_type": "stream",
     "text": [
      "[['09', 7.311111111111111], ['13', 24.258823529411764], ['10', 18.677966101694917], ['14', 11.981308411214954], ['16', 23.35185185185185], ['23', 8.544117647058824], ['12', 10.712328767123287], ['17', 19.41], ['15', 29.99137931034483], ['21', 15.788990825688073], ['20', 14.3875], ['02', 13.672413793103448], ['18', 15.972477064220184], ['03', 6.925925925925926], ['05', 12.0], ['19', 13.754545454545454], ['01', 11.666666666666666], ['22', 7.197183098591549], ['08', 10.729166666666666], ['04', 8.27659574468085], ['00', 8.2], ['06', 13.431818181818182], ['07', 10.617647058823529], ['11', 14.224137931034482]]\n"
     ]
    }
   ],
   "source": [
    "result_list = [] \n",
    "\n",
    "for row in ask_posts:\n",
    "    result_list.append([row[6],int(row[4]),int(row[3])]) #This time we also add the number of points\n",
    "    \n",
    "counts_points_by_hour = {}\n",
    "points_by_hour = {}\n",
    "\n",
    "for row in result_list:\n",
    "    post_time = row[0]\n",
    "    nb_points = row[2]\n",
    "    post_time = dt.datetime.strptime(post_time, \"%m/%d/%Y %H:%M\")\n",
    "    post_hour = post_time.strftime(\"%H\")\n",
    "    if post_hour not in counts_points_by_hour:\n",
    "        counts_points_by_hour[post_hour] = 1\n",
    "        points_by_hour[post_hour] = nb_points\n",
    "    else:\n",
    "        counts_points_by_hour[post_hour] += 1\n",
    "        points_by_hour[post_hour] += nb_points\n",
    "\n",
    "avg_points_by_hour = []\n",
    "\n",
    "for hour in counts_points_by_hour:\n",
    "    avg_points_by_hour.append([hour, points_by_hour[hour]/counts_points_by_hour[hour]])\n",
    "    \n",
    "print(avg_points_by_hour)"
   ]
  },
  {
   "cell_type": "markdown",
   "metadata": {},
   "source": [
    "Now let's make it easier to read those pieces of information.\n",
    "    \n"
   ]
  },
  {
   "cell_type": "code",
   "execution_count": 27,
   "metadata": {},
   "outputs": [
    {
     "name": "stdout",
     "output_type": "stream",
     "text": [
      "Top 5 Hours for Ask posts Pointss\n",
      "15:00: 29.99 average points per post\n",
      "13:00: 24.26 average points per post\n",
      "16:00: 23.35 average points per post\n",
      "17:00: 19.41 average points per post\n",
      "10:00: 18.68 average points per post\n"
     ]
    }
   ],
   "source": [
    "swap_avg_points_by_hour = []\n",
    "\n",
    "for i in avg_points_by_hour:\n",
    "    hour = i[0]\n",
    "    avg = i[1]\n",
    "    swap_avg_points_by_hour.append([avg,hour])\n",
    "    \n",
    "sorted_points_swap = sorted(swap_avg_points_by_hour, reverse = True)\n",
    "\n",
    "print(\"Top 5 Hours for Ask posts Pointss\")\n",
    "\n",
    "for i in sorted_points_swap[0:5]:\n",
    "        hour = i[1]\n",
    "        hour = dt.datetime.strptime(i[1],\"%H\")\n",
    "        hour = hour.strftime(\"%H:%M\")\n",
    "        avg = i[0]\n",
    "        print(\"{}: {:.2f} average points per post\".format(hour,avg))\n",
    "                                                  \n",
    "                                        "
   ]
  },
  {
   "cell_type": "markdown",
   "metadata": {},
   "source": [
    "When we compare those results to the one we got for the number of comments on each post, we can see some differences.\n",
    "\n",
    "It seems that most of the content liked is in the afternoon, which could be explained that, at that time, both US and EU users can be connected (it's the afternoon for the US users and the evening for the EU users).\n",
    "\n",
    "It also means that the population that gives points (\"likes\") and the one that is commenting and answering the questions is not the same one.\n"
   ]
  }
 ],
 "metadata": {
  "kernelspec": {
   "display_name": "Python 3",
   "language": "python",
   "name": "python3"
  },
  "language_info": {
   "codemirror_mode": {
    "name": "ipython",
    "version": 3
   },
   "file_extension": ".py",
   "mimetype": "text/x-python",
   "name": "python",
   "nbconvert_exporter": "python",
   "pygments_lexer": "ipython3",
   "version": "3.7.4"
  }
 },
 "nbformat": 4,
 "nbformat_minor": 2
}
