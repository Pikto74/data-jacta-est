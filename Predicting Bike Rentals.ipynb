{
 "cells": [
  {
   "cell_type": "markdown",
   "metadata": {
    "collapsed": true
   },
   "source": [
    "# Predicting Bike Rentals\n",
    "\n",
    "Many American cities have communal bike sharing stations where you can rent bicycles by the hour or day. Washington, D.C. is one of these cities. The District collects detailed data on the number of bicycles people rent by the hour and day.\n",
    "\n",
    "Hadi Fanaee-T at the University of Porto compiled this data into a CSV file, which we'll be working with in this project. The file contains 17380 rows, with each row representing the number of bike rentals for a single hour of a single day. You can download the data from the University of California, [Irvine's website](http://archive.ics.uci.edu/ml/datasets/Bike+Sharing+Dataset).\n",
    "\n",
    "Here are the descriptions for the relevant columns:\n",
    "\n",
    "- instant - A unique sequential ID number for each row\n",
    "- dteday - The date of the rentals\n",
    "- season - The season in which the rentals occurred\n",
    "- yr - The year the rentals occurred\n",
    "- mnth - The month the rentals occurred\n",
    "- hr - The hour the rentals occurred\n",
    "- holiday - Whether or not the day was a holiday\n",
    "- weekday - The day of the week (as a number, 0 to 7)\n",
    "- workingday - Whether or not the day was a working day\n",
    "- weathersit - The weather (as a categorical variable)\n",
    "- temp - The temperature, on a 0-1 scale\n",
    "- atemp - The adjusted temperature\n",
    "- hum - The humidity, on a 0-1 scale\n",
    "- windspeed - The wind speed, on a 0-1 scale\n",
    "- casual - The number of casual riders (people who hadn't previously signed up with the bike sharing program)\n",
    "- registered - The number of registered riders (people who had already signed up)\n",
    "- cnt - The total number of bike rentals (casual + registered)\n",
    "\n",
    "In this project, we'll try to predict the total number of bikes people rented in a given hour. we'll predict the cnt column using all of the other columns, except for casual and registered. To accomplish this, we'll create a few different machine learning models and evaluate their performance."
   ]
  },
  {
   "cell_type": "code",
   "execution_count": 1,
   "metadata": {
    "collapsed": true
   },
   "outputs": [],
   "source": [
    "import pandas as pd\n",
    "import numpy as np\n",
    "import seaborn as sns\n",
    "import matplotlib.pyplot as plt\n",
    "import re \n",
    "%matplotlib inline"
   ]
  },
  {
   "cell_type": "code",
   "execution_count": 2,
   "metadata": {
    "collapsed": false
   },
   "outputs": [
    {
     "data": {
      "text/html": [
       "<div>\n",
       "<style scoped>\n",
       "    .dataframe tbody tr th:only-of-type {\n",
       "        vertical-align: middle;\n",
       "    }\n",
       "\n",
       "    .dataframe tbody tr th {\n",
       "        vertical-align: top;\n",
       "    }\n",
       "\n",
       "    .dataframe thead th {\n",
       "        text-align: right;\n",
       "    }\n",
       "</style>\n",
       "<table border=\"1\" class=\"dataframe\">\n",
       "  <thead>\n",
       "    <tr style=\"text-align: right;\">\n",
       "      <th></th>\n",
       "      <th>instant</th>\n",
       "      <th>dteday</th>\n",
       "      <th>season</th>\n",
       "      <th>yr</th>\n",
       "      <th>mnth</th>\n",
       "      <th>hr</th>\n",
       "      <th>holiday</th>\n",
       "      <th>weekday</th>\n",
       "      <th>workingday</th>\n",
       "      <th>weathersit</th>\n",
       "      <th>temp</th>\n",
       "      <th>atemp</th>\n",
       "      <th>hum</th>\n",
       "      <th>windspeed</th>\n",
       "      <th>casual</th>\n",
       "      <th>registered</th>\n",
       "      <th>cnt</th>\n",
       "    </tr>\n",
       "  </thead>\n",
       "  <tbody>\n",
       "    <tr>\n",
       "      <th>0</th>\n",
       "      <td>1</td>\n",
       "      <td>2011-01-01</td>\n",
       "      <td>1</td>\n",
       "      <td>0</td>\n",
       "      <td>1</td>\n",
       "      <td>0</td>\n",
       "      <td>0</td>\n",
       "      <td>6</td>\n",
       "      <td>0</td>\n",
       "      <td>1</td>\n",
       "      <td>0.24</td>\n",
       "      <td>0.2879</td>\n",
       "      <td>0.81</td>\n",
       "      <td>0.0</td>\n",
       "      <td>3</td>\n",
       "      <td>13</td>\n",
       "      <td>16</td>\n",
       "    </tr>\n",
       "    <tr>\n",
       "      <th>1</th>\n",
       "      <td>2</td>\n",
       "      <td>2011-01-01</td>\n",
       "      <td>1</td>\n",
       "      <td>0</td>\n",
       "      <td>1</td>\n",
       "      <td>1</td>\n",
       "      <td>0</td>\n",
       "      <td>6</td>\n",
       "      <td>0</td>\n",
       "      <td>1</td>\n",
       "      <td>0.22</td>\n",
       "      <td>0.2727</td>\n",
       "      <td>0.80</td>\n",
       "      <td>0.0</td>\n",
       "      <td>8</td>\n",
       "      <td>32</td>\n",
       "      <td>40</td>\n",
       "    </tr>\n",
       "    <tr>\n",
       "      <th>2</th>\n",
       "      <td>3</td>\n",
       "      <td>2011-01-01</td>\n",
       "      <td>1</td>\n",
       "      <td>0</td>\n",
       "      <td>1</td>\n",
       "      <td>2</td>\n",
       "      <td>0</td>\n",
       "      <td>6</td>\n",
       "      <td>0</td>\n",
       "      <td>1</td>\n",
       "      <td>0.22</td>\n",
       "      <td>0.2727</td>\n",
       "      <td>0.80</td>\n",
       "      <td>0.0</td>\n",
       "      <td>5</td>\n",
       "      <td>27</td>\n",
       "      <td>32</td>\n",
       "    </tr>\n",
       "    <tr>\n",
       "      <th>3</th>\n",
       "      <td>4</td>\n",
       "      <td>2011-01-01</td>\n",
       "      <td>1</td>\n",
       "      <td>0</td>\n",
       "      <td>1</td>\n",
       "      <td>3</td>\n",
       "      <td>0</td>\n",
       "      <td>6</td>\n",
       "      <td>0</td>\n",
       "      <td>1</td>\n",
       "      <td>0.24</td>\n",
       "      <td>0.2879</td>\n",
       "      <td>0.75</td>\n",
       "      <td>0.0</td>\n",
       "      <td>3</td>\n",
       "      <td>10</td>\n",
       "      <td>13</td>\n",
       "    </tr>\n",
       "    <tr>\n",
       "      <th>4</th>\n",
       "      <td>5</td>\n",
       "      <td>2011-01-01</td>\n",
       "      <td>1</td>\n",
       "      <td>0</td>\n",
       "      <td>1</td>\n",
       "      <td>4</td>\n",
       "      <td>0</td>\n",
       "      <td>6</td>\n",
       "      <td>0</td>\n",
       "      <td>1</td>\n",
       "      <td>0.24</td>\n",
       "      <td>0.2879</td>\n",
       "      <td>0.75</td>\n",
       "      <td>0.0</td>\n",
       "      <td>0</td>\n",
       "      <td>1</td>\n",
       "      <td>1</td>\n",
       "    </tr>\n",
       "  </tbody>\n",
       "</table>\n",
       "</div>"
      ],
      "text/plain": [
       "   instant      dteday  season  yr  mnth  hr  holiday  weekday  workingday  \\\n",
       "0        1  2011-01-01       1   0     1   0        0        6           0   \n",
       "1        2  2011-01-01       1   0     1   1        0        6           0   \n",
       "2        3  2011-01-01       1   0     1   2        0        6           0   \n",
       "3        4  2011-01-01       1   0     1   3        0        6           0   \n",
       "4        5  2011-01-01       1   0     1   4        0        6           0   \n",
       "\n",
       "   weathersit  temp   atemp   hum  windspeed  casual  registered  cnt  \n",
       "0           1  0.24  0.2879  0.81        0.0       3          13   16  \n",
       "1           1  0.22  0.2727  0.80        0.0       8          32   40  \n",
       "2           1  0.22  0.2727  0.80        0.0       5          27   32  \n",
       "3           1  0.24  0.2879  0.75        0.0       3          10   13  \n",
       "4           1  0.24  0.2879  0.75        0.0       0           1    1  "
      ]
     },
     "execution_count": 2,
     "metadata": {},
     "output_type": "execute_result"
    }
   ],
   "source": [
    "bike_rentals = pd.read_csv(\"bike_rental_hour.csv\")\n",
    "bike_rentals.head()"
   ]
  },
  {
   "cell_type": "markdown",
   "metadata": {},
   "source": [
    "Let's make a histogram of the cnt column of bike_rentals, and take a look at the distribution of total rentals."
   ]
  },
  {
   "cell_type": "code",
   "execution_count": 3,
   "metadata": {
    "collapsed": false
   },
   "outputs": [
    {
     "data": {
      "image/png": "[encoded data removed]",
      "text/plain": [
       "<matplotlib.figure.Figure at 0x7f9d44c39f60>"
      ]
     },
     "metadata": {},
     "output_type": "display_data"
    }
   ],
   "source": [
    "plt.hist(bike_rentals[\"cnt\"])\n",
    "plt.show()"
   ]
  },
  {
   "cell_type": "markdown",
   "metadata": {},
   "source": [
    "Most of the times there are between 0 to 300 bikes rented as the same time. It's unusual that there are more than 600 at the same time rented.\n",
    "\n",
    "Let's see with the corr() function if some columns are correlated to our cnt columns"
   ]
  },
  {
   "cell_type": "code",
   "execution_count": 4,
   "metadata": {
    "collapsed": false
   },
   "outputs": [
    {
     "data": {
      "text/plain": [
       "cnt           1.000000\n",
       "registered    0.972151\n",
       "casual        0.694564\n",
       "temp          0.404772\n",
       "atemp         0.400929\n",
       "hr            0.394071\n",
       "instant       0.278379\n",
       "yr            0.250495\n",
       "season        0.178056\n",
       "mnth          0.120638\n",
       "windspeed     0.093234\n",
       "workingday    0.030284\n",
       "weekday       0.026900\n",
       "holiday      -0.030927\n",
       "weathersit   -0.142426\n",
       "hum          -0.322911\n",
       "Name: cnt, dtype: float64"
      ]
     },
     "execution_count": 4,
     "metadata": {},
     "output_type": "execute_result"
    }
   ],
   "source": [
    "bike_rentals.corr()[\"cnt\"].sort_values(ascending = False)"
   ]
  },
  {
   "cell_type": "markdown",
   "metadata": {},
   "source": [
    "### Features\n",
    "\n",
    "It can be helpful to calculate features before applying machine learning models. Features can enhance the accuracy of models by introducing new information, or distilling existing information.\n",
    "\n",
    "For example, the hr column in bike_rentals contains the hours during which bikes are rented, from 1 to 24. A machine will treat each hour differently, without understanding that certain hours are related. We can introduce some order into the process by creating a new column with labels for morning, afternoon, evening, and night. This will bundle similar times together, enabling the model to make better decisions."
   ]
  },
  {
   "cell_type": "code",
   "execution_count": 5,
   "metadata": {
    "collapsed": false
   },
   "outputs": [],
   "source": [
    "def assign_label(hour):\n",
    "    if  6 < hour <= 12:\n",
    "        return 1\n",
    "    elif  12 < hour <= 18:\n",
    "        return 2\n",
    "    elif  18 < hour <= 25:\n",
    "        return 3\n",
    "    else:\n",
    "        return 4\n",
    "    \n",
    "bike_rentals[\"time_label\"] = bike_rentals[\"hr\"].apply(assign_label)"
   ]
  },
  {
   "cell_type": "code",
   "execution_count": 6,
   "metadata": {
    "collapsed": false
   },
   "outputs": [
    {
     "data": {
      "text/plain": [
       "0    4\n",
       "1    4\n",
       "2    4\n",
       "3    4\n",
       "4    4\n",
       "Name: time_label, dtype: int64"
      ]
     },
     "execution_count": 6,
     "metadata": {},
     "output_type": "execute_result"
    }
   ],
   "source": [
    "bike_rentals[\"time_label\"].head()"
   ]
  },
  {
   "cell_type": "markdown",
   "metadata": {},
   "source": [
    "### Train and Test\n",
    "\n",
    "Before we can begin applying machine learning algorithms, we'll need to split the data into training and testing sets. This will enable us to train an algorithm using the training set, and evaluate its accuracy on the testing set.\n",
    "\n",
    "The mean squared error metric makes the most sense to evaluate our error. MSE works on continuous numeric data, which fits our data quite well."
   ]
  },
  {
   "cell_type": "code",
   "execution_count": 7,
   "metadata": {
    "collapsed": true
   },
   "outputs": [],
   "source": [
    "train = bike_rentals.sample(frac=0.8)\n",
    "test = bike_rentals.loc[~bike_rentals.index.isin(train.index)]"
   ]
  },
  {
   "cell_type": "markdown",
   "metadata": {},
   "source": [
    "We're ready to apply linear regression to the data. Linear regression will probably work fairly well on this data, given that many of the columns are highly correlated with cnt.\n",
    "\n",
    "We need to ignore the casual and registered columns because cnt is derived from them."
   ]
  },
  {
   "cell_type": "code",
   "execution_count": 8,
   "metadata": {
    "collapsed": false
   },
   "outputs": [
    {
     "data": {
      "text/plain": [
       "15019.947452531309"
      ]
     },
     "execution_count": 8,
     "metadata": {},
     "output_type": "execute_result"
    }
   ],
   "source": [
    "from sklearn.linear_model import LinearRegression\n",
    "from sklearn.metrics import mean_squared_error \n",
    "\n",
    "\n",
    "features = ['instant', 'season', 'yr', 'mnth', 'hr', 'holiday', 'weekday',\n",
    "       'workingday', 'weathersit', 'temp', 'atemp', 'hum', 'windspeed',\n",
    "        'time_label']\n",
    "target = \"cnt\"\n",
    "\n",
    "lr = LinearRegression()\n",
    "lr.fit(train[features],train[target])\n",
    "predictions = lr.predict(test[features])\n",
    "mse = mean_squared_error(test[target],predictions)\n",
    "mse"
   ]
  },
  {
   "cell_type": "markdown",
   "metadata": {},
   "source": [
    "### Errors & Decision Tree\n",
    "\n",
    "The error is very high, which may be due to the fact that the data has a few extremely high rental counts, but otherwise mostly low counts. Larger errors are penalized more with MSE, which leads to a higher total error.\n",
    "\n",
    "Let's now try with a decision tree algorithm."
   ]
  },
  {
   "cell_type": "code",
   "execution_count": 9,
   "metadata": {
    "collapsed": false
   },
   "outputs": [
    {
     "data": {
      "text/plain": [
       "2922.1185270425776"
      ]
     },
     "execution_count": 9,
     "metadata": {},
     "output_type": "execute_result"
    }
   ],
   "source": [
    "from sklearn.tree import DecisionTreeRegressor\n",
    "\n",
    "dt = DecisionTreeRegressor()\n",
    "dt.fit(train[features],train[target])\n",
    "predictions = dt.predict(test[features])\n",
    "mse = mean_squared_error(test[target],predictions)\n",
    "mse"
   ]
  },
  {
   "cell_type": "markdown",
   "metadata": {},
   "source": [
    "We obtain some much better results! Let's try to see if we can improve them by experimenting with various parameters including min_samples_leaf, to see if it changes the error.\n",
    "\n",
    "One of the risk of the decision tree is overfitting. Let's compute each time the mse for the train and for the test datasets."
   ]
  },
  {
   "cell_type": "code",
   "execution_count": 10,
   "metadata": {
    "collapsed": false
   },
   "outputs": [
    {
     "name": "stdout",
     "output_type": "stream",
     "text": [
      "2518.7534506991087\n",
      "1056.346058290491\n"
     ]
    }
   ],
   "source": [
    "dt = DecisionTreeRegressor(min_samples_leaf = 5 )\n",
    "dt.fit(train[features],train[target])\n",
    "predictions = dt.predict(test[features])\n",
    "mse_test = mean_squared_error(test[target],predictions)\n",
    "print(mse_test)\n",
    "\n",
    "dt = DecisionTreeRegressor(min_samples_leaf = 5 )\n",
    "dt.fit(train[features],train[target])\n",
    "predictions = dt.predict(train[features])\n",
    "mse_train = mean_squared_error(train[target],predictions)\n",
    "print(mse_train)"
   ]
  },
  {
   "cell_type": "markdown",
   "metadata": {},
   "source": [
    "By setting the min_samples_leaf we can already see some improvements in our MSE.\n",
    "\n",
    "### Random Forests\n",
    "\n",
    "By taking the nonlinear predictors into account, the decision tree regressor appears to have much higher accuracy than linear regression.\n",
    "\n",
    "We can now apply the random forest algorithm, which improves on the decision tree algorithm. Random forests tend to be much more accurate than simple models like linear regression. Due to the way random forests are constructed, they tend to overfit much less than decision trees. Random forests can still be prone to overfitting, though, so it's important to tune parameters like maximum depth and minimum samples per leaf."
   ]
  },
  {
   "cell_type": "code",
   "execution_count": 11,
   "metadata": {
    "collapsed": false
   },
   "outputs": [
    {
     "name": "stdout",
     "output_type": "stream",
     "text": [
      "1796.1042433831992\n"
     ]
    }
   ],
   "source": [
    "from sklearn.ensemble import RandomForestRegressor \n",
    "\n",
    "RF = RandomForestRegressor()\n",
    "RF.fit(train[features],train[target])\n",
    "predictions = RF.predict(test[features])\n",
    "mse_test = mean_squared_error(test[target],predictions)\n",
    "print(mse_test)"
   ]
  },
  {
   "cell_type": "markdown",
   "metadata": {},
   "source": [
    "Now let's modify the parameters to improve our predictions"
   ]
  },
  {
   "cell_type": "code",
   "execution_count": null,
   "metadata": {
    "collapsed": false
   },
   "outputs": [],
   "source": [
    "from sklearn.model_selection import RandomizedSearchCV\n",
    "\n",
    "# Number of trees in random forest\n",
    "n_estimators = [int(x) for x in np.linspace(start = 50, stop = 500, num = 10)]\n",
    "# Number of features to consider at every split\n",
    "max_features = ['auto', 'sqrt']\n",
    "# Maximum number of levels in tree\n",
    "max_depth = [int(x) for x in np.linspace(10, 110, num = 11)]\n",
    "max_depth.append(None)\n",
    "# Minimum number of samples required to split a node\n",
    "min_samples_split = [2, 5, 10]\n",
    "# Minimum number of samples required at each leaf node\n",
    "min_samples_leaf = [1, 2, 4]\n",
    "# Method of selecting samples for training each tree\n",
    "bootstrap = [True, False]\n",
    "\n",
    "random_grid = {'n_estimators': n_estimators,\n",
    "               'max_features': max_features,\n",
    "               'max_depth': max_depth,\n",
    "               'min_samples_split': min_samples_split,\n",
    "               'min_samples_leaf': min_samples_leaf,\n",
    "               'bootstrap': bootstrap}"
   ]
  },
  {
   "cell_type": "code",
   "execution_count": null,
   "metadata": {
    "collapsed": false
   },
   "outputs": [
    {
     "name": "stdout",
     "output_type": "stream",
     "text": [
      "Fitting 3 folds for each of 50 candidates, totalling 150 fits\n",
      "[CV] max_features=sqrt, max_depth=50, min_samples_leaf=2, bootstrap=True, n_estimators=50, min_samples_split=10 \n",
      "[CV] max_features=sqrt, max_depth=50, min_samples_leaf=2, bootstrap=True, n_estimators=50, min_samples_split=10 \n",
      "[CV] max_features=sqrt, max_depth=50, min_samples_leaf=2, bootstrap=True, n_estimators=50, min_samples_split=10 \n",
      "[CV] max_features=sqrt, max_depth=90, min_samples_leaf=4, bootstrap=False, n_estimators=150, min_samples_split=10 \n",
      "[CV] max_features=sqrt, max_depth=90, min_samples_leaf=4, bootstrap=False, n_estimators=150, min_samples_split=10 \n",
      "[CV] max_features=sqrt, max_depth=90, min_samples_leaf=4, bootstrap=False, n_estimators=150, min_samples_split=10 \n",
      "[CV] max_features=auto, max_depth=60, min_samples_leaf=2, bootstrap=False, n_estimators=150, min_samples_split=2 \n",
      "[CV] max_features=auto, max_depth=60, min_samples_leaf=2, bootstrap=False, n_estimators=150, min_samples_split=2 \n",
      "[CV] max_features=auto, max_depth=60, min_samples_leaf=2, bootstrap=False, n_estimators=150, min_samples_split=2 \n",
      "[CV] max_features=sqrt, max_depth=30, min_samples_leaf=1, bootstrap=True, n_estimators=350, min_samples_split=5 \n",
      "[CV] max_features=sqrt, max_depth=30, min_samples_leaf=1, bootstrap=True, n_estimators=350, min_samples_split=5 \n",
      "[CV] max_features=sqrt, max_depth=30, min_samples_leaf=1, bootstrap=True, n_estimators=350, min_samples_split=5 \n",
      "[CV] max_features=auto, max_depth=80, min_samples_leaf=1, bootstrap=False, n_estimators=250, min_samples_split=10 \n",
      "[CV] max_features=auto, max_depth=80, min_samples_leaf=1, bootstrap=False, n_estimators=250, min_samples_split=10 \n",
      "[CV] max_features=auto, max_depth=80, min_samples_leaf=1, bootstrap=False, n_estimators=250, min_samples_split=10 \n",
      "[CV] max_features=sqrt, max_depth=60, min_samples_leaf=1, bootstrap=False, n_estimators=100, min_samples_split=10 \n",
      "[CV]  max_features=sqrt, max_depth=50, min_samples_leaf=2, bootstrap=True, n_estimators=50, min_samples_split=10 -   0.6s\n",
      "[CV] max_features=sqrt, max_depth=60, min_samples_leaf=1, bootstrap=False, n_estimators=100, min_samples_split=10 \n",
      "[CV]  max_features=sqrt, max_depth=50, min_samples_leaf=2, bootstrap=True, n_estimators=50, min_samples_split=10 -   0.5s\n",
      "[CV] max_features=sqrt, max_depth=60, min_samples_leaf=1, bootstrap=False, n_estimators=100, min_samples_split=10 \n",
      "[CV]  max_features=sqrt, max_depth=50, min_samples_leaf=2, bootstrap=True, n_estimators=50, min_samples_split=10 -   0.8s\n",
      "[CV] max_features=auto, max_depth=50, min_samples_leaf=2, bootstrap=False, n_estimators=500, min_samples_split=2 \n",
      "[CV]  max_features=sqrt, max_depth=60, min_samples_leaf=1, bootstrap=False, n_estimators=100, min_samples_split=10 -   2.0s\n",
      "[CV] max_features=auto, max_depth=50, min_samples_leaf=2, bootstrap=False, n_estimators=500, min_samples_split=2 \n",
      "[CV]  max_features=sqrt, max_depth=90, min_samples_leaf=4, bootstrap=False, n_estimators=150, min_samples_split=10 -   1.9s\n",
      "[CV]  max_features=sqrt, max_depth=90, min_samples_leaf=4, bootstrap=False, n_estimators=150, min_samples_split=10 -   1.6s\n",
      "[CV] max_features=auto, max_depth=50, min_samples_leaf=2, bootstrap=False, n_estimators=500, min_samples_split=2 \n",
      "[CV] max_features=sqrt, max_depth=10, min_samples_leaf=2, bootstrap=True, n_estimators=50, min_samples_split=5 \n",
      "[CV]  max_features=sqrt, max_depth=60, min_samples_leaf=1, bootstrap=False, n_estimators=100, min_samples_split=10 -   1.2s\n",
      "[CV] max_features=sqrt, max_depth=10, min_samples_leaf=2, bootstrap=True, n_estimators=50, min_samples_split=5 \n",
      "[CV]  max_features=sqrt, max_depth=90, min_samples_leaf=4, bootstrap=False, n_estimators=150, min_samples_split=10 -   1.9s\n",
      "[CV] max_features=sqrt, max_depth=10, min_samples_leaf=2, bootstrap=True, n_estimators=50, min_samples_split=5 \n",
      "[CV]  max_features=sqrt, max_depth=60, min_samples_leaf=1, bootstrap=False, n_estimators=100, min_samples_split=10 -   1.1s\n"
     ]
    },
    {
     "name": "stderr",
     "output_type": "stream",
     "text": [
      "[Parallel(n_jobs=-1)]: Done   9 tasks      | elapsed:   36.9s\n"
     ]
    },
    {
     "name": "stdout",
     "output_type": "stream",
     "text": [
      "[CV] max_features=auto, max_depth=100, min_samples_leaf=4, bootstrap=True, n_estimators=300, min_samples_split=2 \n",
      "[CV]  max_features=sqrt, max_depth=10, min_samples_leaf=2, bootstrap=True, n_estimators=50, min_samples_split=5 -   1.0s\n",
      "[CV] max_features=auto, max_depth=100, min_samples_leaf=4, bootstrap=True, n_estimators=300, min_samples_split=2 \n",
      "[CV]  max_features=sqrt, max_depth=10, min_samples_leaf=2, bootstrap=True, n_estimators=50, min_samples_split=5 -   0.4s\n",
      "[CV] max_features=auto, max_depth=100, min_samples_leaf=4, bootstrap=True, n_estimators=300, min_samples_split=2 \n",
      "[CV]  max_features=sqrt, max_depth=10, min_samples_leaf=2, bootstrap=True, n_estimators=50, min_samples_split=5 -   0.4s\n",
      "[CV] max_features=auto, max_depth=50, min_samples_leaf=2, bootstrap=True, n_estimators=500, min_samples_split=5 \n",
      "[CV]  max_features=sqrt, max_depth=30, min_samples_leaf=1, bootstrap=True, n_estimators=350, min_samples_split=5 -   4.6s\n",
      "[CV] max_features=auto, max_depth=50, min_samples_leaf=2, bootstrap=True, n_estimators=500, min_samples_split=5 \n",
      "[CV]  max_features=sqrt, max_depth=30, min_samples_leaf=1, bootstrap=True, n_estimators=350, min_samples_split=5 -   5.5s\n",
      "[CV] max_features=auto, max_depth=50, min_samples_leaf=2, bootstrap=True, n_estimators=500, min_samples_split=5 \n",
      "[CV]  max_features=sqrt, max_depth=30, min_samples_leaf=1, bootstrap=True, n_estimators=350, min_samples_split=5 -   4.9s\n",
      "[CV] max_features=auto, max_depth=20, min_samples_leaf=2, bootstrap=False, n_estimators=100, min_samples_split=10 \n",
      "[CV]  max_features=auto, max_depth=60, min_samples_leaf=2, bootstrap=False, n_estimators=150, min_samples_split=2 -   3.7s\n",
      "[CV]  max_features=auto, max_depth=60, min_samples_leaf=2, bootstrap=False, n_estimators=150, min_samples_split=2 -   2.0s\n",
      "[CV] max_features=auto, max_depth=20, min_samples_leaf=2, bootstrap=False, n_estimators=100, min_samples_split=10 \n",
      "[CV] max_features=auto, max_depth=20, min_samples_leaf=2, bootstrap=False, n_estimators=100, min_samples_split=10 \n",
      "[CV]  max_features=auto, max_depth=60, min_samples_leaf=2, bootstrap=False, n_estimators=150, min_samples_split=2 -   3.2s\n",
      "[CV] max_features=sqrt, max_depth=20, min_samples_leaf=1, bootstrap=False, n_estimators=200, min_samples_split=2 \n",
      "[CV]  max_features=auto, max_depth=20, min_samples_leaf=2, bootstrap=False, n_estimators=100, min_samples_split=10 -   1.2s\n",
      "[CV] max_features=sqrt, max_depth=20, min_samples_leaf=1, bootstrap=False, n_estimators=200, min_samples_split=2 \n",
      "[CV]  max_features=auto, max_depth=100, min_samples_leaf=4, bootstrap=True, n_estimators=300, min_samples_split=2 -   3.9s\n",
      "[CV] max_features=sqrt, max_depth=20, min_samples_leaf=1, bootstrap=False, n_estimators=200, min_samples_split=2 \n",
      "[CV]  max_features=auto, max_depth=80, min_samples_leaf=1, bootstrap=False, n_estimators=250, min_samples_split=10 -   2.8s\n",
      "[CV] max_features=sqrt, max_depth=70, min_samples_leaf=1, bootstrap=True, n_estimators=250, min_samples_split=5 \n",
      "[CV]  max_features=auto, max_depth=100, min_samples_leaf=4, bootstrap=True, n_estimators=300, min_samples_split=2 -   3.5s\n",
      "[CV] max_features=sqrt, max_depth=70, min_samples_leaf=1, bootstrap=True, n_estimators=250, min_samples_split=5 \n",
      "[CV]  max_features=auto, max_depth=80, min_samples_leaf=1, bootstrap=False, n_estimators=250, min_samples_split=10 -   4.1s\n",
      "[CV]  max_features=auto, max_depth=100, min_samples_leaf=4, bootstrap=True, n_estimators=300, min_samples_split=2 -   3.1s\n",
      "[CV] max_features=sqrt, max_depth=70, min_samples_leaf=1, bootstrap=True, n_estimators=250, min_samples_split=5 \n",
      "[CV] max_features=sqrt, max_depth=70, min_samples_leaf=2, bootstrap=False, n_estimators=300, min_samples_split=10 \n",
      "[CV]  max_features=auto, max_depth=80, min_samples_leaf=1, bootstrap=False, n_estimators=250, min_samples_split=10 -   3.4s\n",
      "[CV] max_features=sqrt, max_depth=70, min_samples_leaf=2, bootstrap=False, n_estimators=300, min_samples_split=10 \n",
      "[CV]  max_features=sqrt, max_depth=20, min_samples_leaf=1, bootstrap=False, n_estimators=200, min_samples_split=2 -   5.3s\n",
      "[CV] max_features=sqrt, max_depth=70, min_samples_leaf=2, bootstrap=False, n_estimators=300, min_samples_split=10 \n",
      "[CV]  max_features=auto, max_depth=20, min_samples_leaf=2, bootstrap=False, n_estimators=100, min_samples_split=10 -   1.7s\n",
      "[CV] max_features=sqrt, max_depth=110, min_samples_leaf=4, bootstrap=False, n_estimators=400, min_samples_split=2 \n",
      "[CV]  max_features=auto, max_depth=20, min_samples_leaf=2, bootstrap=False, n_estimators=100, min_samples_split=10 -   1.1s\n",
      "[CV] max_features=sqrt, max_depth=110, min_samples_leaf=4, bootstrap=False, n_estimators=400, min_samples_split=2 \n",
      "[CV] max_features=sqrt, max_depth=110, min_samples_leaf=4, bootstrap=False, n_estimators=400, min_samples_split=2 \n",
      "[CV] max_features=auto, max_depth=50, min_samples_leaf=1, bootstrap=False, n_estimators=250, min_samples_split=10 \n",
      "[CV] max_features=auto, max_depth=50, min_samples_leaf=1, bootstrap=False, n_estimators=250, min_samples_split=10 \n",
      "[CV]  max_features=sqrt, max_depth=70, min_samples_leaf=1, bootstrap=True, n_estimators=250, min_samples_split=5 -   3.4s\n",
      "[CV] max_features=auto, max_depth=50, min_samples_leaf=1, bootstrap=False, n_estimators=250, min_samples_split=10 \n",
      "[CV]  max_features=sqrt, max_depth=70, min_samples_leaf=1, bootstrap=True, n_estimators=250, min_samples_split=5 -   3.6s\n",
      "[CV] max_features=sqrt, max_depth=30, min_samples_leaf=1, bootstrap=True, n_estimators=250, min_samples_split=10 \n",
      "[CV]  max_features=sqrt, max_depth=70, min_samples_leaf=1, bootstrap=True, n_estimators=250, min_samples_split=5 -   3.2s\n",
      "[CV] max_features=sqrt, max_depth=30, min_samples_leaf=1, bootstrap=True, n_estimators=250, min_samples_split=10 \n",
      "[CV]  max_features=sqrt, max_depth=70, min_samples_leaf=2, bootstrap=False, n_estimators=300, min_samples_split=10 -   3.4s\n",
      "[CV] max_features=sqrt, max_depth=30, min_samples_leaf=1, bootstrap=True, n_estimators=250, min_samples_split=10 \n",
      "[CV]  max_features=sqrt, max_depth=70, min_samples_leaf=2, bootstrap=False, n_estimators=300, min_samples_split=10 -   4.3s\n",
      "[CV] max_features=auto, max_depth=70, min_samples_leaf=1, bootstrap=True, n_estimators=150, min_samples_split=2 \n",
      "[CV]  max_features=sqrt, max_depth=30, min_samples_leaf=1, bootstrap=True, n_estimators=250, min_samples_split=10 -   2.8s\n",
      "[CV] max_features=auto, max_depth=70, min_samples_leaf=1, bootstrap=True, n_estimators=150, min_samples_split=2 \n",
      "[CV] max_features=auto, max_depth=70, min_samples_leaf=1, bootstrap=True, n_estimators=150, min_samples_split=2 \n",
      "[CV]  max_features=sqrt, max_depth=30, min_samples_leaf=1, bootstrap=True, n_estimators=250, min_samples_split=10 -   4.2s\n",
      "[CV] max_features=auto, max_depth=30, min_samples_leaf=2, bootstrap=False, n_estimators=450, min_samples_split=2 \n",
      "[CV]  max_features=sqrt, max_depth=110, min_samples_leaf=4, bootstrap=False, n_estimators=400, min_samples_split=2 -   4.4s\n",
      "[CV] max_features=auto, max_depth=30, min_samples_leaf=2, bootstrap=False, n_estimators=450, min_samples_split=2 \n",
      "[CV]  max_features=sqrt, max_depth=110, min_samples_leaf=4, bootstrap=False, n_estimators=400, min_samples_split=2 -   5.1s\n",
      "[CV] max_features=auto, max_depth=30, min_samples_leaf=2, bootstrap=False, n_estimators=450, min_samples_split=2 \n",
      "[CV]  max_features=sqrt, max_depth=30, min_samples_leaf=1, bootstrap=True, n_estimators=250, min_samples_split=10 -   3.0s\n",
      "[CV] max_features=auto, max_depth=None, min_samples_leaf=4, bootstrap=True, n_estimators=400, min_samples_split=2 \n",
      "[CV]  max_features=sqrt, max_depth=110, min_samples_leaf=4, bootstrap=False, n_estimators=400, min_samples_split=2 -   4.7s\n",
      "[CV] max_features=auto, max_depth=None, min_samples_leaf=4, bootstrap=True, n_estimators=400, min_samples_split=2 \n",
      "[CV]  max_features=auto, max_depth=50, min_samples_leaf=2, bootstrap=True, n_estimators=500, min_samples_split=5 -   6.7s\n",
      "[CV] max_features=auto, max_depth=None, min_samples_leaf=4, bootstrap=True, n_estimators=400, min_samples_split=2 \n",
      "[CV] max_features=auto, max_depth=40, min_samples_leaf=2, bootstrap=False, n_estimators=400, min_samples_split=5 \n",
      "[CV]  max_features=auto, max_depth=50, min_samples_leaf=2, bootstrap=True, n_estimators=500, min_samples_split=5 -   5.6s\n",
      "[CV] max_features=auto, max_depth=40, min_samples_leaf=2, bootstrap=False, n_estimators=400, min_samples_split=5 \n",
      "[CV]  max_features=auto, max_depth=50, min_samples_leaf=2, bootstrap=True, n_estimators=500, min_samples_split=5 -   6.8s\n",
      "[CV] max_features=auto, max_depth=40, min_samples_leaf=2, bootstrap=False, n_estimators=400, min_samples_split=5 \n",
      "[CV]  max_features=auto, max_depth=70, min_samples_leaf=1, bootstrap=True, n_estimators=150, min_samples_split=2 -   2.4s\n",
      "[CV] max_features=auto, max_depth=60, min_samples_leaf=4, bootstrap=True, n_estimators=300, min_samples_split=5 \n",
      "[CV] max_features=auto, max_depth=60, min_samples_leaf=4, bootstrap=True, n_estimators=300, min_samples_split=5 \n",
      "[CV]  max_features=auto, max_depth=70, min_samples_leaf=1, bootstrap=True, n_estimators=150, min_samples_split=2 -   2.9s\n",
      "[CV] max_features=auto, max_depth=60, min_samples_leaf=4, bootstrap=True, n_estimators=300, min_samples_split=5 \n",
      "[CV]  max_features=auto, max_depth=70, min_samples_leaf=1, bootstrap=True, n_estimators=150, min_samples_split=2 -   2.9s\n",
      "[CV] max_features=auto, max_depth=110, min_samples_leaf=1, bootstrap=True, n_estimators=350, min_samples_split=2 \n",
      "[CV]  max_features=auto, max_depth=50, min_samples_leaf=1, bootstrap=False, n_estimators=250, min_samples_split=10 -   3.0s\n",
      "[CV] max_features=auto, max_depth=110, min_samples_leaf=1, bootstrap=True, n_estimators=350, min_samples_split=2 \n",
      "[CV]  max_features=auto, max_depth=50, min_samples_leaf=1, bootstrap=False, n_estimators=250, min_samples_split=10 -   3.6s\n",
      "[CV] max_features=auto, max_depth=110, min_samples_leaf=1, bootstrap=True, n_estimators=350, min_samples_split=2 \n",
      "[CV]  max_features=auto, max_depth=50, min_samples_leaf=1, bootstrap=False, n_estimators=250, min_samples_split=10 -   3.2s\n",
      "[CV] max_features=auto, max_depth=20, min_samples_leaf=1, bootstrap=True, n_estimators=500, min_samples_split=2 \n",
      "[CV] max_features=auto, max_depth=20, min_samples_leaf=1, bootstrap=True, n_estimators=500, min_samples_split=2 \n",
      "[CV] max_features=auto, max_depth=20, min_samples_leaf=1, bootstrap=True, n_estimators=500, min_samples_split=2 \n",
      "[CV] max_features=auto, max_depth=40, min_samples_leaf=2, bootstrap=False, n_estimators=250, min_samples_split=2 \n",
      "[CV]  max_features=auto, max_depth=None, min_samples_leaf=4, bootstrap=True, n_estimators=400, min_samples_split=2 -   5.4s\n",
      "[CV] max_features=auto, max_depth=40, min_samples_leaf=2, bootstrap=False, n_estimators=250, min_samples_split=2 \n",
      "[CV]  max_features=auto, max_depth=None, min_samples_leaf=4, bootstrap=True, n_estimators=400, min_samples_split=2 -   4.8s\n",
      "[CV] max_features=auto, max_depth=40, min_samples_leaf=2, bootstrap=False, n_estimators=250, min_samples_split=2 \n",
      "[CV] max_features=sqrt, max_depth=50, min_samples_leaf=2, bootstrap=False, n_estimators=300, min_samples_split=2 \n",
      "[CV]  max_features=auto, max_depth=60, min_samples_leaf=4, bootstrap=True, n_estimators=300, min_samples_split=5 -   4.2s\n",
      "[CV] max_features=sqrt, max_depth=50, min_samples_leaf=2, bootstrap=False, n_estimators=300, min_samples_split=2 \n",
      "[CV]  max_features=auto, max_depth=60, min_samples_leaf=4, bootstrap=True, n_estimators=300, min_samples_split=5 -   3.1s\n",
      "[CV] max_features=sqrt, max_depth=50, min_samples_leaf=2, bootstrap=False, n_estimators=300, min_samples_split=2 \n",
      "[CV] max_features=sqrt, max_depth=110, min_samples_leaf=1, bootstrap=True, n_estimators=500, min_samples_split=2 \n",
      "[CV]  max_features=auto, max_depth=60, min_samples_leaf=4, bootstrap=True, n_estimators=300, min_samples_split=5 -   3.6s\n",
      "[CV] max_features=sqrt, max_depth=110, min_samples_leaf=1, bootstrap=True, n_estimators=500, min_samples_split=2 \n",
      "[CV] max_features=sqrt, max_depth=110, min_samples_leaf=1, bootstrap=True, n_estimators=500, min_samples_split=2 \n",
      "[CV] max_features=auto, max_depth=80, min_samples_leaf=1, bootstrap=True, n_estimators=400, min_samples_split=2 \n",
      "[CV] max_features=auto, max_depth=80, min_samples_leaf=1, bootstrap=True, n_estimators=400, min_samples_split=2 \n",
      "[CV] max_features=auto, max_depth=80, min_samples_leaf=1, bootstrap=True, n_estimators=400, min_samples_split=2 \n",
      "[CV] max_features=auto, max_depth=90, min_samples_leaf=4, bootstrap=True, n_estimators=450, min_samples_split=10 \n",
      "[CV]  max_features=sqrt, max_depth=50, min_samples_leaf=2, bootstrap=False, n_estimators=300, min_samples_split=2 -   5.8s\n",
      "[CV] max_features=auto, max_depth=90, min_samples_leaf=4, bootstrap=True, n_estimators=450, min_samples_split=10 \n",
      "[CV]  max_features=sqrt, max_depth=50, min_samples_leaf=2, bootstrap=False, n_estimators=300, min_samples_split=2 -   4.4s\n",
      "[CV] max_features=auto, max_depth=90, min_samples_leaf=4, bootstrap=True, n_estimators=450, min_samples_split=10 \n",
      "[CV]  max_features=auto, max_depth=40, min_samples_leaf=2, bootstrap=False, n_estimators=400, min_samples_split=5 -   4.9s\n",
      "[CV] max_features=sqrt, max_depth=60, min_samples_leaf=2, bootstrap=False, n_estimators=150, min_samples_split=10 \n",
      "[CV]  max_features=auto, max_depth=40, min_samples_leaf=2, bootstrap=False, n_estimators=400, min_samples_split=5 -   4.6s\n",
      "[CV] max_features=sqrt, max_depth=60, min_samples_leaf=2, bootstrap=False, n_estimators=150, min_samples_split=10 \n",
      "[CV]  max_features=sqrt, max_depth=60, min_samples_leaf=2, bootstrap=False, n_estimators=150, min_samples_split=10 -   1.6s\n",
      "[CV] max_features=sqrt, max_depth=60, min_samples_leaf=2, bootstrap=False, n_estimators=150, min_samples_split=10 \n",
      "[CV]  max_features=sqrt, max_depth=60, min_samples_leaf=2, bootstrap=False, n_estimators=150, min_samples_split=10 -   1.3s\n",
      "[CV] max_features=sqrt, max_depth=80, min_samples_leaf=2, bootstrap=False, n_estimators=350, min_samples_split=5 \n",
      "[CV]  max_features=auto, max_depth=40, min_samples_leaf=2, bootstrap=False, n_estimators=250, min_samples_split=2 -   3.1s\n",
      "[CV] max_features=sqrt, max_depth=80, min_samples_leaf=2, bootstrap=False, n_estimators=350, min_samples_split=5 \n",
      "[CV]  max_features=auto, max_depth=40, min_samples_leaf=2, bootstrap=False, n_estimators=250, min_samples_split=2 -   3.1s\n",
      "[CV] max_features=sqrt, max_depth=80, min_samples_leaf=2, bootstrap=False, n_estimators=350, min_samples_split=5 \n",
      "[CV]  max_features=auto, max_depth=40, min_samples_leaf=2, bootstrap=False, n_estimators=250, min_samples_split=2 -   3.2s\n",
      "[CV] max_features=sqrt, max_depth=100, min_samples_leaf=1, bootstrap=False, n_estimators=50, min_samples_split=10 \n",
      "[CV]  max_features=sqrt, max_depth=100, min_samples_leaf=1, bootstrap=False, n_estimators=50, min_samples_split=10 -   0.4s\n",
      "[CV]  max_features=sqrt, max_depth=60, min_samples_leaf=2, bootstrap=False, n_estimators=150, min_samples_split=10 -   1.2s\n",
      "[CV] max_features=sqrt, max_depth=100, min_samples_leaf=1, bootstrap=False, n_estimators=50, min_samples_split=10 \n",
      "[CV] max_features=sqrt, max_depth=100, min_samples_leaf=1, bootstrap=False, n_estimators=50, min_samples_split=10 \n",
      "[CV]  max_features=sqrt, max_depth=100, min_samples_leaf=1, bootstrap=False, n_estimators=50, min_samples_split=10 -   0.6s\n",
      "[CV]  max_features=sqrt, max_depth=100, min_samples_leaf=1, bootstrap=False, n_estimators=50, min_samples_split=10 -   0.5s\n",
      "[CV] max_features=sqrt, max_depth=40, min_samples_leaf=1, bootstrap=True, n_estimators=350, min_samples_split=5 \n",
      "[CV] max_features=sqrt, max_depth=40, min_samples_leaf=1, bootstrap=True, n_estimators=350, min_samples_split=5 \n",
      "[CV]  max_features=auto, max_depth=90, min_samples_leaf=4, bootstrap=True, n_estimators=450, min_samples_split=10 -   2.5s\n",
      "[CV] max_features=sqrt, max_depth=40, min_samples_leaf=1, bootstrap=True, n_estimators=350, min_samples_split=5 \n",
      "[CV]  max_features=sqrt, max_depth=80, min_samples_leaf=2, bootstrap=False, n_estimators=350, min_samples_split=5 -   2.7s\n",
      "[CV] max_features=auto, max_depth=50, min_samples_leaf=1, bootstrap=False, n_estimators=450, min_samples_split=2 \n",
      "[CV]  max_features=sqrt, max_depth=80, min_samples_leaf=2, bootstrap=False, n_estimators=350, min_samples_split=5 -   2.5s\n",
      "[CV] max_features=auto, max_depth=50, min_samples_leaf=1, bootstrap=False, n_estimators=450, min_samples_split=2 \n",
      "[CV]  max_features=sqrt, max_depth=80, min_samples_leaf=2, bootstrap=False, n_estimators=350, min_samples_split=5 -   2.5s\n",
      "[CV]  max_features=auto, max_depth=90, min_samples_leaf=4, bootstrap=True, n_estimators=450, min_samples_split=10 -   2.3s\n",
      "[CV] max_features=auto, max_depth=50, min_samples_leaf=1, bootstrap=False, n_estimators=450, min_samples_split=2 \n",
      "[CV] max_features=sqrt, max_depth=20, min_samples_leaf=1, bootstrap=False, n_estimators=300, min_samples_split=2 \n",
      "[CV]  max_features=auto, max_depth=90, min_samples_leaf=4, bootstrap=True, n_estimators=450, min_samples_split=10 -   2.4s\n",
      "[CV] max_features=sqrt, max_depth=20, min_samples_leaf=1, bootstrap=False, n_estimators=300, min_samples_split=2 \n",
      "[CV]  max_features=sqrt, max_depth=40, min_samples_leaf=1, bootstrap=True, n_estimators=350, min_samples_split=5 -   2.1s\n",
      "[CV] max_features=sqrt, max_depth=20, min_samples_leaf=1, bootstrap=False, n_estimators=300, min_samples_split=2 \n",
      "[CV]  max_features=sqrt, max_depth=40, min_samples_leaf=1, bootstrap=True, n_estimators=350, min_samples_split=5 -   2.0s\n",
      "[CV] max_features=auto, max_depth=40, min_samples_leaf=4, bootstrap=True, n_estimators=50, min_samples_split=2 \n",
      "[CV]  max_features=auto, max_depth=40, min_samples_leaf=4, bootstrap=True, n_estimators=50, min_samples_split=2 -   0.3s\n",
      "[CV] max_features=auto, max_depth=40, min_samples_leaf=4, bootstrap=True, n_estimators=50, min_samples_split=2 \n",
      "[CV]  max_features=sqrt, max_depth=40, min_samples_leaf=1, bootstrap=True, n_estimators=350, min_samples_split=5 -   2.2s\n",
      "[CV] max_features=auto, max_depth=40, min_samples_leaf=4, bootstrap=True, n_estimators=50, min_samples_split=2 \n",
      "[CV]  max_features=auto, max_depth=40, min_samples_leaf=4, bootstrap=True, n_estimators=50, min_samples_split=2 -   0.2s\n",
      "[CV] max_features=auto, max_depth=20, min_samples_leaf=1, bootstrap=False, n_estimators=200, min_samples_split=10 \n",
      "[CV]  max_features=auto, max_depth=40, min_samples_leaf=4, bootstrap=True, n_estimators=50, min_samples_split=2 -   0.2s\n",
      "[CV] max_features=auto, max_depth=20, min_samples_leaf=1, bootstrap=False, n_estimators=200, min_samples_split=10 \n",
      "[CV]  max_features=auto, max_depth=20, min_samples_leaf=1, bootstrap=False, n_estimators=200, min_samples_split=10 -   0.6s\n",
      "[CV] max_features=auto, max_depth=20, min_samples_leaf=1, bootstrap=False, n_estimators=200, min_samples_split=10 \n",
      "[CV]  max_features=auto, max_depth=20, min_samples_leaf=1, bootstrap=False, n_estimators=200, min_samples_split=10 -   0.5s\n",
      "[CV] max_features=auto, max_depth=None, min_samples_leaf=4, bootstrap=True, n_estimators=100, min_samples_split=10 \n",
      "[CV]  max_features=auto, max_depth=None, min_samples_leaf=4, bootstrap=True, n_estimators=100, min_samples_split=10 -   0.2s\n",
      "[CV] max_features=auto, max_depth=None, min_samples_leaf=4, bootstrap=True, n_estimators=100, min_samples_split=10 \n",
      "[CV]  max_features=auto, max_depth=None, min_samples_leaf=4, bootstrap=True, n_estimators=100, min_samples_split=10 -   0.2s\n",
      "[CV] max_features=auto, max_depth=None, min_samples_leaf=4, bootstrap=True, n_estimators=100, min_samples_split=10 \n",
      "[CV]  max_features=auto, max_depth=20, min_samples_leaf=1, bootstrap=False, n_estimators=200, min_samples_split=10 -   0.3s\n",
      "[CV] max_features=auto, max_depth=20, min_samples_leaf=4, bootstrap=True, n_estimators=100, min_samples_split=2 \n",
      "[CV]  max_features=auto, max_depth=None, min_samples_leaf=4, bootstrap=True, n_estimators=100, min_samples_split=10 -   0.1s\n",
      "[CV] max_features=auto, max_depth=20, min_samples_leaf=4, bootstrap=True, n_estimators=100, min_samples_split=2 \n",
      "[CV]  max_features=auto, max_depth=20, min_samples_leaf=4, bootstrap=True, n_estimators=100, min_samples_split=2 -   0.1s\n",
      "[CV] max_features=auto, max_depth=20, min_samples_leaf=4, bootstrap=True, n_estimators=100, min_samples_split=2 \n",
      "[CV]  max_features=auto, max_depth=20, min_samples_leaf=4, bootstrap=True, n_estimators=100, min_samples_split=2 -   0.2s\n",
      "[CV] max_features=auto, max_depth=None, min_samples_leaf=4, bootstrap=True, n_estimators=100, min_samples_split=2 \n",
      "[CV]  max_features=auto, max_depth=50, min_samples_leaf=1, bootstrap=False, n_estimators=450, min_samples_split=2 -   1.4s\n",
      "[CV] max_features=auto, max_depth=None, min_samples_leaf=4, bootstrap=True, n_estimators=100, min_samples_split=2 \n",
      "[CV]  max_features=auto, max_depth=20, min_samples_leaf=4, bootstrap=True, n_estimators=100, min_samples_split=2 -   0.2s\n",
      "[CV] max_features=auto, max_depth=None, min_samples_leaf=4, bootstrap=True, n_estimators=100, min_samples_split=2 \n",
      "[CV]  max_features=auto, max_depth=None, min_samples_leaf=4, bootstrap=True, n_estimators=100, min_samples_split=2 -   0.2s\n",
      "[CV] max_features=sqrt, max_depth=40, min_samples_leaf=2, bootstrap=False, n_estimators=250, min_samples_split=2 \n",
      "[CV]  max_features=auto, max_depth=None, min_samples_leaf=4, bootstrap=True, n_estimators=100, min_samples_split=2 -   0.2s\n",
      "[CV] max_features=sqrt, max_depth=40, min_samples_leaf=2, bootstrap=False, n_estimators=250, min_samples_split=2 \n",
      "[CV]  max_features=auto, max_depth=None, min_samples_leaf=4, bootstrap=True, n_estimators=100, min_samples_split=2 -   0.2s\n",
      "[CV] max_features=sqrt, max_depth=40, min_samples_leaf=2, bootstrap=False, n_estimators=250, min_samples_split=2 \n",
      "[CV]  max_features=sqrt, max_depth=40, min_samples_leaf=2, bootstrap=False, n_estimators=250, min_samples_split=2 -   0.6s\n",
      "[CV] max_features=sqrt, max_depth=30, min_samples_leaf=1, bootstrap=False, n_estimators=150, min_samples_split=2 \n",
      "[CV]  max_features=sqrt, max_depth=40, min_samples_leaf=2, bootstrap=False, n_estimators=250, min_samples_split=2 -   0.6s\n",
      "[CV] max_features=sqrt, max_depth=30, min_samples_leaf=1, bootstrap=False, n_estimators=150, min_samples_split=2 \n",
      "[CV]  max_features=sqrt, max_depth=40, min_samples_leaf=2, bootstrap=False, n_estimators=250, min_samples_split=2 -   0.6s\n",
      "[CV] max_features=sqrt, max_depth=30, min_samples_leaf=1, bootstrap=False, n_estimators=150, min_samples_split=2 \n",
      "[CV]  max_features=sqrt, max_depth=30, min_samples_leaf=1, bootstrap=False, n_estimators=150, min_samples_split=2 -   0.5s\n",
      "[CV] max_features=sqrt, max_depth=80, min_samples_leaf=1, bootstrap=True, n_estimators=200, min_samples_split=5 \n",
      "[CV]  max_features=sqrt, max_depth=30, min_samples_leaf=1, bootstrap=False, n_estimators=150, min_samples_split=2 -   0.4s\n",
      "[CV] max_features=sqrt, max_depth=80, min_samples_leaf=1, bootstrap=True, n_estimators=200, min_samples_split=5 \n",
      "[CV]  max_features=sqrt, max_depth=80, min_samples_leaf=1, bootstrap=True, n_estimators=200, min_samples_split=5 -   0.4s\n",
      "[CV] max_features=sqrt, max_depth=80, min_samples_leaf=1, bootstrap=True, n_estimators=200, min_samples_split=5 \n",
      "[CV]  max_features=sqrt, max_depth=30, min_samples_leaf=1, bootstrap=False, n_estimators=150, min_samples_split=2 -   0.5s\n",
      "[CV] max_features=auto, max_depth=90, min_samples_leaf=2, bootstrap=True, n_estimators=450, min_samples_split=2 \n",
      "[CV]  max_features=sqrt, max_depth=80, min_samples_leaf=1, bootstrap=True, n_estimators=200, min_samples_split=5 -   0.4s\n",
      "[CV] max_features=auto, max_depth=90, min_samples_leaf=2, bootstrap=True, n_estimators=450, min_samples_split=2 \n",
      "[CV]  max_features=sqrt, max_depth=80, min_samples_leaf=1, bootstrap=True, n_estimators=200, min_samples_split=5 -   0.4s\n",
      "[CV] max_features=auto, max_depth=90, min_samples_leaf=2, bootstrap=True, n_estimators=450, min_samples_split=2 \n",
      "[CV]  max_features=auto, max_depth=90, min_samples_leaf=2, bootstrap=True, n_estimators=450, min_samples_split=2 -   0.9s\n",
      "[CV] max_features=auto, max_depth=30, min_samples_leaf=2, bootstrap=False, n_estimators=350, min_samples_split=2 \n",
      "[CV]  max_features=auto, max_depth=90, min_samples_leaf=2, bootstrap=True, n_estimators=450, min_samples_split=2 -   1.0s\n",
      "[CV] max_features=auto, max_depth=30, min_samples_leaf=2, bootstrap=False, n_estimators=350, min_samples_split=2 \n",
      "[CV]  max_features=auto, max_depth=90, min_samples_leaf=2, bootstrap=True, n_estimators=450, min_samples_split=2 -   0.9s\n",
      "[CV] max_features=auto, max_depth=30, min_samples_leaf=2, bootstrap=False, n_estimators=350, min_samples_split=2 \n",
      "[CV]  max_features=auto, max_depth=30, min_samples_leaf=2, bootstrap=False, n_estimators=350, min_samples_split=2 -   0.9s\n",
      "[CV] max_features=auto, max_depth=50, min_samples_leaf=2, bootstrap=True, n_estimators=300, min_samples_split=10 \n",
      "[CV]  max_features=auto, max_depth=30, min_samples_leaf=2, bootstrap=False, n_estimators=350, min_samples_split=2 -   0.9s\n",
      "[CV] max_features=auto, max_depth=50, min_samples_leaf=2, bootstrap=True, n_estimators=300, min_samples_split=10 \n",
      "[CV]  max_features=auto, max_depth=50, min_samples_leaf=2, bootstrap=True, n_estimators=300, min_samples_split=10 -   0.3s\n",
      "[CV] max_features=auto, max_depth=50, min_samples_leaf=2, bootstrap=True, n_estimators=300, min_samples_split=10 \n",
      "[CV]  max_features=auto, max_depth=50, min_samples_leaf=2, bootstrap=True, n_estimators=300, min_samples_split=10 -   0.3s\n",
      "[CV] max_features=auto, max_depth=110, min_samples_leaf=2, bootstrap=False, n_estimators=250, min_samples_split=10 \n",
      "[CV]  max_features=auto, max_depth=50, min_samples_leaf=2, bootstrap=True, n_estimators=300, min_samples_split=10 -   0.3s\n",
      "[CV] max_features=auto, max_depth=110, min_samples_leaf=2, bootstrap=False, n_estimators=250, min_samples_split=10 \n",
      "[CV]  max_features=auto, max_depth=110, min_samples_leaf=2, bootstrap=False, n_estimators=250, min_samples_split=10 -   0.3s\n",
      "[CV] max_features=auto, max_depth=110, min_samples_leaf=2, bootstrap=False, n_estimators=250, min_samples_split=10 \n",
      "[CV]  max_features=auto, max_depth=110, min_samples_leaf=2, bootstrap=False, n_estimators=250, min_samples_split=10 -   0.3s\n",
      "[CV] max_features=auto, max_depth=10, min_samples_leaf=2, bootstrap=True, n_estimators=250, min_samples_split=2 \n",
      "[CV]  max_features=auto, max_depth=110, min_samples_leaf=2, bootstrap=False, n_estimators=250, min_samples_split=10 -   0.3s\n",
      "[CV] max_features=auto, max_depth=10, min_samples_leaf=2, bootstrap=True, n_estimators=250, min_samples_split=2 \n",
      "[CV]  max_features=auto, max_depth=10, min_samples_leaf=2, bootstrap=True, n_estimators=250, min_samples_split=2 -   0.2s\n",
      "[CV] max_features=auto, max_depth=10, min_samples_leaf=2, bootstrap=True, n_estimators=250, min_samples_split=2 \n",
      "[CV]  max_features=auto, max_depth=10, min_samples_leaf=2, bootstrap=True, n_estimators=250, min_samples_split=2 -   0.2s\n",
      "[CV] max_features=sqrt, max_depth=60, min_samples_leaf=1, bootstrap=False, n_estimators=150, min_samples_split=2 \n",
      "[CV]  max_features=auto, max_depth=10, min_samples_leaf=2, bootstrap=True, n_estimators=250, min_samples_split=2 -   0.2s\n",
      "[CV] max_features=sqrt, max_depth=60, min_samples_leaf=1, bootstrap=False, n_estimators=150, min_samples_split=2 \n",
      "[CV]  max_features=sqrt, max_depth=60, min_samples_leaf=1, bootstrap=False, n_estimators=150, min_samples_split=2 -   0.3s\n",
      "[CV] max_features=sqrt, max_depth=60, min_samples_leaf=1, bootstrap=False, n_estimators=150, min_samples_split=2 \n",
      "[CV]  max_features=sqrt, max_depth=60, min_samples_leaf=1, bootstrap=False, n_estimators=150, min_samples_split=2 -   0.3s\n",
      "[CV] max_features=sqrt, max_depth=110, min_samples_leaf=4, bootstrap=True, n_estimators=300, min_samples_split=2 \n",
      "[CV]  max_features=sqrt, max_depth=60, min_samples_leaf=1, bootstrap=False, n_estimators=150, min_samples_split=2 -   0.3s\n",
      "[CV] max_features=sqrt, max_depth=110, min_samples_leaf=4, bootstrap=True, n_estimators=300, min_samples_split=2 \n",
      "[CV]  max_features=sqrt, max_depth=110, min_samples_leaf=4, bootstrap=True, n_estimators=300, min_samples_split=2 -   0.3s\n",
      "[CV] max_features=sqrt, max_depth=110, min_samples_leaf=4, bootstrap=True, n_estimators=300, min_samples_split=2 \n",
      "[CV]  max_features=sqrt, max_depth=110, min_samples_leaf=4, bootstrap=True, n_estimators=300, min_samples_split=2 -   0.3s\n",
      "[CV]  max_features=sqrt, max_depth=110, min_samples_leaf=4, bootstrap=True, n_estimators=300, min_samples_split=2 -   0.2s\n"
     ]
    }
   ],
   "source": [
    "# Use the random grid to search for best hyperparameters\n",
    "# First create the base model to tune\n",
    "RF = RandomForestRegressor()\n",
    "# Random search of parameters, using 3 fold cross validation, \n",
    "# search across 50 different combinations, and use all available cores\n",
    "RF_random = RandomizedSearchCV(estimator = RF, param_distributions = random_grid, n_iter = 50, cv = 3, verbose=2, random_state=42, n_jobs = -1)\n",
    "# Fit the random search model\n",
    "RF_random.fit(train[features],train[target])\n",
    "\n",
    "rf_random.best_params_\n"
   ]
  }
 ],
 "metadata": {
  "kernelspec": {
   "display_name": "Python 3",
   "language": "python",
   "name": "python3"
  },
  "language_info": {
   "codemirror_mode": {
    "name": "ipython",
    "version": 3
   },
   "file_extension": ".py",
   "mimetype": "text/x-python",
   "name": "python",
   "nbconvert_exporter": "python",
   "pygments_lexer": "ipython3",
   "version": "3.4.3"
  }
 },
 "nbformat": 4,
 "nbformat_minor": 0
}
