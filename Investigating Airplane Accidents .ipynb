{
 "cells": [
  {
   "cell_type": "markdown",
   "metadata": {},
   "source": [
    "#  Investigating Airplane Accidents\n",
    "\n",
    "In this Assignment, we will clean and explore a dataset containing details about airplane accidents between January 1982 to September 2015.\n",
    "\n",
    "The data provided for this assignment came in a text file where each entry was delimited by a new line. Each data point was separated by a pipe character. So, the first order of business will be to do some preliminary cleaning to get the data into a structure that we can work with."
   ]
  },
  {
   "cell_type": "code",
   "execution_count": 115,
   "metadata": {},
   "outputs": [],
   "source": [
    "import matplotlib.pyplot as plt\n",
    "from datetime import datetime\n",
    "import numpy as np\n",
    "%matplotlib inline"
   ]
  },
  {
   "cell_type": "code",
   "execution_count": 1,
   "metadata": {},
   "outputs": [],
   "source": [
    "opened = open('AviationData.txt' , \"r\")\n",
    "aviation_list = []\n",
    "\n",
    "for line in opened:\n",
    "    line_list = line.split('|')\n",
    "    words = []\n",
    "    for word in line_list:\n",
    "        word = word.strip()\n",
    "        words.append(word)\n",
    "    aviation_list.append(words)\n"
   ]
  },
  {
   "cell_type": "code",
   "execution_count": 2,
   "metadata": {},
   "outputs": [
    {
     "name": "stdout",
     "output_type": "stream",
     "text": [
      "[['20150908X74637', 'Accident', 'CEN15LA402', '09/08/2015', 'Freeport, IL', 'United States', '42.246111', '-89.581945', 'KFEP', 'albertus Airport', 'Non-Fatal', 'Substantial', 'Unknown', 'N24TL', 'CLARKE REGINALD W', 'DRAGONFLY MK', '', '', '', 'Part 91: General Aviation', '', 'Personal', '', '', '1', '', '', 'VMC', 'TAKEOFF', 'Preliminary', '09/09/2015', ''], ['20150906X32704', 'Accident', 'ERA15LA339', '09/05/2015', 'Laconia, NH', 'United States', '43.606389', '-71.452778', 'LCI', 'Laconia Municipal Airport', 'Fatal(1)', 'Substantial', 'Weight-Shift', 'N2264X', 'EVOLUTION AIRCRAFT INC', 'REVO', 'No', '1', 'Reciprocating', 'Part 91: General Aviation', '', 'Personal', '', '1', '', '', '', 'VMC', 'MANEUVERING', 'Preliminary', '09/10/2015', '']]\n"
     ]
    }
   ],
   "source": [
    "print(aviation_list[1:3])"
   ]
  },
  {
   "cell_type": "markdown",
   "metadata": {},
   "source": [
    "Now that we have a list of list let see how fast we can retrieve information in our dataset."
   ]
  },
  {
   "cell_type": "code",
   "execution_count": 3,
   "metadata": {},
   "outputs": [],
   "source": [
    "lax_code = []\n",
    "\n",
    "for x in aviation_list:\n",
    "    for i in x:\n",
    "        if i == \"LAX94LA336\":\n",
    "            lax_code.append(x)\n"
   ]
  },
  {
   "cell_type": "code",
   "execution_count": 4,
   "metadata": {},
   "outputs": [
    {
     "name": "stdout",
     "output_type": "stream",
     "text": [
      "['20001218X45447', 'Accident', 'LAX94LA336', '07/19/1962', 'BRIDGEPORT, CA', 'United States', '', '', '', '', 'Fatal(4)', 'Destroyed', '', 'N5069P', 'PIPER', 'PA24-180', 'No', '1', 'Reciprocating', '', '', 'Personal', '', '4', '0', '0', '0', 'UNK', 'UNKNOWN', 'Probable Cause', '09/19/1996', '']\n"
     ]
    }
   ],
   "source": [
    "print(lax_code[0])"
   ]
  },
  {
   "cell_type": "markdown",
   "metadata": {},
   "source": [
    "We are able to search the data for a particular value but the row we are returned is still pretty meaningless.\n",
    "Plus, the algorithm we wrote on the previous screen took quadratic time. That's because it had to loop through each row first, and then each column inside that row.\n",
    "\n",
    "There are ways to make the algorithm takes linear time while we still scan across the whole data set, though.\n",
    "\n",
    "Let's write a linear time algorithm that searches each row in aviation_data for the string LAX94LA336. We know that the code we are looking for is in the third position of each list. "
   ]
  },
  {
   "cell_type": "code",
   "execution_count": 5,
   "metadata": {},
   "outputs": [
    {
     "name": "stdout",
     "output_type": "stream",
     "text": [
      "['20001218X45447', 'Accident', 'LAX94LA336', '07/19/1962', 'BRIDGEPORT, CA', 'United States', '', '', '', '', 'Fatal(4)', 'Destroyed', '', 'N5069P', 'PIPER', 'PA24-180', 'No', '1', 'Reciprocating', '', '', 'Personal', '', '4', '0', '0', '0', 'UNK', 'UNKNOWN', 'Probable Cause', '09/19/1996', '']\n"
     ]
    }
   ],
   "source": [
    "lax_code2 = []\n",
    "\n",
    "for x in aviation_list:\n",
    "    if x[2] == \"LAX94LA336\":\n",
    "            lax_code2.append(x)\n",
    "\n",
    "print(lax_code2[0])"
   ]
  },
  {
   "cell_type": "markdown",
   "metadata": {},
   "source": [
    "We don't need to loop through each element of each list but only to check the 3 rd one. This is faster but this implies that we know where the code could be situated in each list. Plus we still don't really understand most of the values from the row we are returned.\n",
    "\n",
    "### Dictionnaries\n",
    "\n",
    "Now let's store the data as a list of dictionaries, which will be a way to quickly know what each value of each row means "
   ]
  },
  {
   "cell_type": "code",
   "execution_count": 7,
   "metadata": {},
   "outputs": [],
   "source": [
    "opened = open('AviationData.txt' , \"r\")\n",
    "aviation_dict_list = []\n",
    "\n",
    "for line in opened:\n",
    "    line_list = line.split('|')\n",
    "    keys = []\n",
    "    for i in aviation_list[0]:\n",
    "        keys.append(i)"
   ]
  },
  {
   "cell_type": "markdown",
   "metadata": {},
   "source": [
    "First we have created a list with all the keys, now let's create a new dictionnary for each row, with the same keys each time ( it's like the name of each columns of a DataFrame)"
   ]
  },
  {
   "cell_type": "code",
   "execution_count": 8,
   "metadata": {},
   "outputs": [],
   "source": [
    "for i in range(1,len(aviation_list)):\n",
    "    dic = {}\n",
    "    for x in range(0,len(keys)):\n",
    "        dic[keys[x]] = aviation_list[i][x]\n",
    "    aviation_dict_list.append(dic)"
   ]
  },
  {
   "cell_type": "markdown",
   "metadata": {},
   "source": [
    "Now let's search for our Accident Number"
   ]
  },
  {
   "cell_type": "code",
   "execution_count": 9,
   "metadata": {},
   "outputs": [],
   "source": [
    "lax_dict = []\n",
    "\n",
    "for i in aviation_dict_list:\n",
    "    if i['Accident Number'] == 'LAX94LA336':\n",
    "        lax_dict.append(i)      "
   ]
  },
  {
   "cell_type": "code",
   "execution_count": 10,
   "metadata": {
    "scrolled": true
   },
   "outputs": [
    {
     "name": "stdout",
     "output_type": "stream",
     "text": [
      "{'Event Id': '20001218X45447', 'Investigation Type': 'Accident', 'Accident Number': 'LAX94LA336', 'Event Date': '07/19/1962', 'Location': 'BRIDGEPORT, CA', 'Country': 'United States', 'Latitude': '', 'Longitude': '', 'Airport Code': '', 'Airport Name': '', 'Injury Severity': 'Fatal(4)', 'Aircraft Damage': 'Destroyed', 'Aircraft Category': '', 'Registration Number': 'N5069P', 'Make': 'PIPER', 'Model': 'PA24-180', 'Amateur Built': 'No', 'Number of Engines': '1', 'Engine Type': 'Reciprocating', 'FAR Description': '', 'Schedule': '', 'Purpose of Flight': 'Personal', 'Air Carrier': '', 'Total Fatal Injuries': '4', 'Total Serious Injuries': '0', 'Total Minor Injuries': '0', 'Total Uninjured': '0', 'Weather Condition': 'UNK', 'Broad Phase of Flight': 'UNKNOWN', 'Report Status': 'Probable Cause', 'Publication Date': '09/19/1996', '': ''}\n"
     ]
    }
   ],
   "source": [
    "print(lax_dict[0])"
   ]
  },
  {
   "cell_type": "markdown",
   "metadata": {},
   "source": [
    "The time of search is linear as we only have to go through one element of each dictionnary (with the 'Accident Number') and not through the whole dataset and we know have much more information!\n",
    "\n",
    "### Exploring the Data\n",
    "\n",
    "Now we'll count how many accidents occurred in each U.S. state, then determine which state had the most accidents overall."
   ]
  },
  {
   "cell_type": "code",
   "execution_count": 100,
   "metadata": {},
   "outputs": [
    {
     "name": "stdout",
     "output_type": "stream",
     "text": [
      "Titusville, FL\n",
      "Pine Bluff, AR\n",
      "Orlando, FL\n",
      "Tyler, MN\n",
      "Ketchum, OK\n",
      "Pineville, LA\n",
      "Mesa, AZ\n",
      "Springfield, OH\n",
      "Lac Long, Canada\n",
      "Pontiac, MI\n",
      "Hempstead, TX\n",
      "El Dorado, AR\n",
      "Kasilof, AK\n",
      "HOMER, AK\n",
      "LaBelle, FL\n",
      "Danbury, CT\n",
      "Tucson, AZ\n",
      "Harvey, ND\n",
      "Ironside, OR\n",
      "Helena, MT\n"
     ]
    }
   ],
   "source": [
    "for dic in aviation_dict_list[30:50]:\n",
    "    location = dic[\"Location\"]\n",
    "    print(location)\n"
   ]
  },
  {
   "cell_type": "markdown",
   "metadata": {},
   "source": [
    "We can see that the US states are represented by the last two letters. However when it's another country the name is written fully (ex: Canada)"
   ]
  },
  {
   "cell_type": "code",
   "execution_count": 101,
   "metadata": {},
   "outputs": [
    {
     "name": "stdout",
     "output_type": "stream",
     "text": [
      "['AK', 'AL', 'AO', 'AR', 'AS', 'AZ', 'CA', 'CO', 'CT', 'DC', 'DE', 'FL', 'FN', 'GA', 'GM', 'GU', 'HI', 'IA', 'ID', 'IL', 'IN', 'KS', 'KY', 'LA', 'MA', 'MD', 'ME', 'MI', 'MN', 'MO', 'MP', 'MS', 'MT', 'NC', 'ND', 'NE', 'NH', 'NJ', 'NM', 'NV', 'NY', 'OH', 'OK', 'ON', 'OR', 'PA', 'PO', 'PR', 'RI', 'SC', 'SD', 'TN', 'TX', 'UN', 'UT', 'VA', 'VI', 'VT', 'WA', 'WI', 'WV', 'WY']\n"
     ]
    }
   ],
   "source": [
    "states = []\n",
    "\n",
    "for dic in aviation_dict_list:\n",
    "    #We make sure that we are only taking the accident that occured in the USA\n",
    "    if dic['Country'] == 'United States':\n",
    "        location = dic[\"Location\"]\n",
    "        # We only keep the last 2 letters, that indicates the State.\n",
    "        location = location[-2:]\n",
    "        states.append(location)\n",
    "    states = list(dict.fromkeys(states))\n",
    "\n",
    "states = sorted(states)[1:]\n",
    "print(states)"
   ]
  },
  {
   "cell_type": "markdown",
   "metadata": {},
   "source": [
    "Quite surprinsigly we have 63 states. As United States did not envade any new territories, it might be a mistake. We will see quickly after wich states are false.\n",
    "\n",
    "Let's create a dictionnary that gather the sum of accident per state"
   ]
  },
  {
   "cell_type": "code",
   "execution_count": 106,
   "metadata": {},
   "outputs": [],
   "source": [
    "#We create a dictionnary with each unique value of the state list\n",
    "states_dic = dict.fromkeys(states)\n",
    "\n",
    "states_accidents = {}\n",
    "\n",
    "for key in states_dic:\n",
    "    states_accidents[key] = 0\n",
    "    \n",
    "#We make sure that we are only taking the accident that occured in the USA\n",
    "for dic in aviation_dict_list:\n",
    "    if dic['Country'] == 'United States':\n",
    "        location = dic[\"Location\"]\n",
    "        # We only keep the last 2 letters, that indicates the State.\n",
    "        location = location[-2:]  \n",
    "        #Each time an accident in a state occurs, we had +1 to it's value, which will give the final number of accident per state\n",
    "        if location in states_accidents:\n",
    "            states_accidents[location] += 1\n",
    "            \n",
    "#We sort our dictionnary by values, descending)\n",
    "states_accidents = {k: v for k, v in sorted(states_accidents.items(), key=lambda item: item[1],reverse = True)}"
   ]
  },
  {
   "cell_type": "code",
   "execution_count": 107,
   "metadata": {},
   "outputs": [
    {
     "name": "stdout",
     "output_type": "stream",
     "text": [
      "{'CA': 8030, 'FL': 5118, 'TX': 5112, 'AK': 5049, 'AZ': 2502, 'CO': 2460, 'WA': 2354, 'IL': 1874, 'MI': 1863, 'GA': 1747, 'NY': 1716, 'OH': 1616, 'PA': 1573, 'OR': 1559, 'NC': 1433, 'MO': 1404, 'AR': 1389, 'WI': 1389, 'MN': 1317, 'ID': 1228, 'NM': 1219, 'IN': 1169, 'UT': 1162, 'OK': 1110, 'VA': 1108, 'LA': 1073, 'NJ': 1068, 'NV': 1054, 'AL': 1032, 'KS': 981, 'TN': 951, 'MT': 936, 'MA': 896, 'SC': 850, 'MS': 746, 'IA': 731, 'MD': 720, 'WY': 663, 'NE': 642, 'KY': 577, 'ND': 514, 'ME': 458, 'CT': 447, 'HI': 434, 'SD': 393, 'WV': 362, 'NH': 326, 'VT': 213, 'RI': 147, 'DE': 100, 'PR': 88, 'GM': 63, 'DC': 43, 'GU': 14, 'VI': 12, 'PO': 8, 'AO': 7, 'FN': 5, 'UN': 5, 'MP': 2, 'AS': 1, 'ON': 1}\n"
     ]
    }
   ],
   "source": [
    "print(states_accidents)"
   ]
  },
  {
   "cell_type": "code",
   "execution_count": 108,
   "metadata": {},
   "outputs": [
    {
     "data": {
      "text/plain": [
       "'CA'"
      ]
     },
     "execution_count": 108,
     "metadata": {},
     "output_type": "execute_result"
    }
   ],
   "source": [
    "max_accident_state = max(states_accidents, key=states_accidents.get)\n",
    "max_accident_state"
   ]
  },
  {
   "cell_type": "markdown",
   "metadata": {},
   "source": [
    "The state with most accident is California, by far. Let's see if it's also the deadliest one.\n",
    "\n",
    "We use the same technique as above"
   ]
  },
  {
   "cell_type": "code",
   "execution_count": 109,
   "metadata": {},
   "outputs": [],
   "source": [
    "fatal_states = dict.fromkeys(states)\n",
    "\n",
    "for key in fatal_states:\n",
    "    fatal_states[key] = 0\n",
    "    \n",
    "for i in range(len(aviation_dict_list)):\n",
    "    #We replace missing values to avoid any mistakes\n",
    "    if aviation_dict_list[i]['Total Fatal Injuries'] == '':\n",
    "        aviation_dict_list[i]['Total Fatal Injuries'] = 0\n",
    "\n",
    "for dic in aviation_dict_list:\n",
    "    if dic['Country'] == 'United States':\n",
    "        location = dic[\"Location\"]\n",
    "        location = location[-2:]  \n",
    "        if location in states_dic:\n",
    "            fatal_states[location] += int(dic['Total Fatal Injuries'])\n",
    "\n",
    "fatal_states = {k: v for k, v in sorted(fatal_states.items(), key=lambda item: item[1],reverse = True)}"
   ]
  },
  {
   "cell_type": "code",
   "execution_count": 110,
   "metadata": {},
   "outputs": [
    {
     "name": "stdout",
     "output_type": "stream",
     "text": [
      "{'CA': 3676, 'FL': 1779, 'TX': 1734, 'NY': 1331, 'AK': 1172, 'AZ': 946, 'CO': 944, 'PA': 751, 'WA': 749, 'MI': 746, 'GA': 733, 'NC': 629, 'VA': 562, 'OR': 521, 'IL': 518, 'LA': 505, 'OH': 498, 'NV': 475, 'WI': 469, 'UT': 465, 'OK': 454, 'NM': 434, 'AL': 431, 'ID': 429, 'MO': 424, 'AR': 420, 'IN': 394, 'NJ': 371, 'MN': 369, 'TN': 369, 'MT': 335, 'IA': 317, 'SC': 316, 'MA': 288, 'KY': 286, 'KS': 260, 'HI': 252, 'WY': 251, 'MD': 246, 'GU': 233, 'MS': 218, 'NE': 195, 'WV': 170, 'CT': 153, 'ME': 150, 'SD': 141, 'NH': 102, 'DC': 85, 'VT': 82, 'ND': 73, 'RI': 64, 'PR': 45, 'DE': 39, 'GM': 28, 'VI': 8, 'MP': 4, 'PO': 4, 'AS': 2, 'FN': 2, 'ON': 2, 'AO': 1, 'UN': 1}\n"
     ]
    }
   ],
   "source": [
    "print(fatal_states)"
   ]
  },
  {
   "cell_type": "code",
   "execution_count": 111,
   "metadata": {},
   "outputs": [
    {
     "data": {
      "text/plain": [
       "'CA'"
      ]
     },
     "execution_count": 111,
     "metadata": {},
     "output_type": "execute_result"
    }
   ],
   "source": [
    "most_fatal_states = max(fatal_states, key=fatal_states.get)\n",
    "most_fatal_states"
   ]
  },
  {
   "cell_type": "markdown",
   "metadata": {},
   "source": [
    "Logically this number is still higher for California."
   ]
  },
  {
   "cell_type": "markdown",
   "metadata": {},
   "source": [
    "### Monthly Injuries\n",
    "\n",
    "Let's count how many fatalities and serious injuries occured during each unique month and year."
   ]
  },
  {
   "cell_type": "code",
   "execution_count": 112,
   "metadata": {},
   "outputs": [],
   "source": [
    "month = []\n",
    "\n",
    "#First of all we need to extract the Month and Year of every accident\n",
    "for dic in aviation_dict_list:\n",
    "    event_date = dic['Event Date']\n",
    "    event_date = event_date[0:3] + event_date[6:]\n",
    "    event_date = event_date[0:2] + '-' + event_date[-4:] \n",
    "    month.append(str(event_date))\n",
    "    \n",
    "    \n",
    "month = list(dict.fromkeys(month))\n",
    "month_sorted = sorted(month)[1:]"
   ]
  },
  {
   "cell_type": "code",
   "execution_count": 114,
   "metadata": {},
   "outputs": [],
   "source": [
    "# We get all the unique values to create a dictionnary\n",
    "injuries_month = dict.fromkeys(month)\n",
    "\n",
    "for key in injuries_month:\n",
    "    injuries_month[key] = 0\n",
    "    \n",
    "#We get rid of the null values\n",
    "for i in range(len(aviation_dict_list)):\n",
    "    if aviation_dict_list[i]['Total Fatal Injuries'] == '':\n",
    "        aviation_dict_list[i]['Total Fatal Injuries'] = 0\n",
    "    if aviation_dict_list[i]['Total Serious Injuries'] == '':\n",
    "        aviation_dict_list[i]['Total Serious Injuries'] = 0   \n",
    "\n",
    "#We create a dictionnary with the month as keys and the number of fatal and serious injuries as values        \n",
    "for dic in aviation_dict_list:\n",
    "    event_date = dic['Event Date']\n",
    "    event_date = event_date[0:3] + event_date[6:]\n",
    "    event_date = str(event_date[0:2] + '-' + event_date[-4:])\n",
    "    if event_date in injuries_month:\n",
    "        injuries_month[event_date] += (int(dic['Total Fatal Injuries']) + int(dic['Total Serious Injuries']))\n",
    "\n",
    "# Let's erase a few values that are too far from the other to have a better graph later\n",
    "del injuries_month['-']\n",
    "del injuries_month['08-1974']\n",
    "del injuries_month['07-1962']\n",
    "del injuries_month['10-1948']"
   ]
  },
  {
   "cell_type": "code",
   "execution_count": 118,
   "metadata": {},
   "outputs": [
    {
     "data": {
      "image/png": "[encoded data removed]",
      "text/plain": [
       "<Figure size 720x432 with 1 Axes>"
      ]
     },
     "metadata": {
      "needs_background": "light"
     },
     "output_type": "display_data"
    }
   ],
   "source": [
    "#We create two list out of the keys and the values of our dictionnary to create the graph\n",
    "casualties_list =  list(injuries_month.values()) \n",
    "month_list = list(injuries_month.keys()) \n",
    "\n",
    "#we convert our month to datetime, this will help us displaying the time on the x-axis\n",
    "month_dt = [datetime.strptime(v , '%m-%Y')\n",
    " for v in month_list]\n",
    "\n",
    "fig, ax = plt.subplots(figsize = (10,6))\n",
    "ax.plot(month_dt,casualties_list)\n",
    "\n",
    "plt.show()"
   ]
  },
  {
   "cell_type": "markdown",
   "metadata": {},
   "source": [
    "It seems that there are a lot of variations in the number of deaths depending on the months. Let's see if certain month are deadlier than the other, maybe link to weather conditions at a specific time of the year."
   ]
  },
  {
   "cell_type": "code",
   "execution_count": 119,
   "metadata": {},
   "outputs": [],
   "source": [
    "month_only_dic = {}\n",
    "letter_month = []\n",
    "month_only = []\n",
    "\n",
    "#This time we only keep the month, and not the year, as we want to see if EVERY month of each year we have some tendencies\n",
    "for dic in aviation_dict_list:\n",
    "    mo = dic['Event Date']\n",
    "    mo = mo[0:2]\n",
    "    month_only.append(str(mo))\n",
    "    \n",
    "    \n",
    "month_only = list(dict.fromkeys(month_only))\n",
    "month_only_sorted = sorted(month_only)[1:]\n"
   ]
  },
  {
   "cell_type": "code",
   "execution_count": 120,
   "metadata": {},
   "outputs": [],
   "source": [
    "injuries_month_only = dict.fromkeys(month_only_sorted )\n",
    "\n",
    "for key in injuries_month_only:\n",
    "    injuries_month_only[key] = 0\n",
    "\n",
    "#For more readibility we will use letter to design our months\n",
    "calend = {'Jan' : '01',\n",
    "        'Feb' : '02',\n",
    "        'Mar' : '03',\n",
    "        'Apr' : '04',\n",
    "        'May' : '05',\n",
    "        'Jun' : '06',\n",
    "        'Jul' : '07',\n",
    "        'Aug' : '08',\n",
    "        'Sep' : '09', \n",
    "        'Oct' : '10',\n",
    "        'Nov' : '11',\n",
    "        'Dec' : '12'}     \n",
    "\n",
    "for dic in aviation_dict_list:\n",
    "    mo = dic['Event Date']\n",
    "    mo = mo[0:2] \n",
    "    if mo in injuries_month_only:\n",
    "        injuries_month_only[mo] += (int(dic['Total Fatal Injuries']) + int(dic['Total Serious Injuries']))\n",
    "        \n",
    "for key,val in calend.items():\n",
    "    injuries_month_only[key] = injuries_month_only.pop(val)"
   ]
  },
  {
   "cell_type": "code",
   "execution_count": 121,
   "metadata": {},
   "outputs": [
    {
     "data": {
      "text/plain": [
       "<BarContainer object of 12 artists>"
      ]
     },
     "execution_count": 121,
     "metadata": {},
     "output_type": "execute_result"
    },
    {
     "data": {
      "image/png": "[encoded data removed]",
      "text/plain": [
       "<Figure size 432x288 with 1 Axes>"
      ]
     },
     "metadata": {
      "needs_background": "light"
     },
     "output_type": "display_data"
    }
   ],
   "source": [
    "plt.bar(injuries_month_only.keys(),injuries_month_only.values())\n"
   ]
  },
  {
   "cell_type": "markdown",
   "metadata": {},
   "source": [
    "It seems that the July and August months are the deadliest one, which makes sense as it represents the holidays and we can assume that much more people are travelling, thus more planes are flying.\n",
    "\n",
    "To go even further we should calculate the ratio between the number of flight and the number of casualties, which might gives us an idea of which month is more \"dangerous\". Unfortunately we do not have the data about the number of flight per month, but only about the accidents."
   ]
  }
 ],
 "metadata": {
  "kernelspec": {
   "display_name": "Python 3",
   "language": "python",
   "name": "python3"
  },
  "language_info": {
   "codemirror_mode": {
    "name": "ipython",
    "version": 3
   },
   "file_extension": ".py",
   "mimetype": "text/x-python",
   "name": "python",
   "nbconvert_exporter": "python",
   "pygments_lexer": "ipython3",
   "version": "3.7.4"
  }
 },
 "nbformat": 4,
 "nbformat_minor": 2
}
