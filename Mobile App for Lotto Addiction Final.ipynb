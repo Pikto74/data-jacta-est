{
 "cells": [
  {
   "cell_type": "markdown",
   "metadata": {},
   "source": [
    "# Mobile App for Lottery Addiction\n",
    "\n",
    "Many people start playing the lottery for fun, but for some this activity turns into a habit which eventually escalates into addiction. Like other compulsive gamblers, lottery addicts soon begin spending from their savings and loans, they start to accumulate debts, and eventually engage in desperate behaviors like theft.\n",
    "\n",
    "A medical institute that aims to prevent and treat gambling addictions wants to build a dedicated mobile app to help lottery addicts better estimate their chances of winning. The institute has a team of engineers that will build the app, but they need us to create the logical core of the app and calculate probabilities.\n",
    "\n",
    "For the first version of the app, they want us to focus on the 6/49 lottery and build functions that enable users to answer questions like:\n",
    "\n",
    "- What is the probability of winning the big prize with a single ticket?\n",
    "- What is the probability of winning the big prize if we play 40 different tickets (or any other number)?\n",
    "- What is the probability of having at least five (or four, or three, or two) winning numbers on a single ticket?\n",
    "\n",
    "The institute also wants us to consider historical data coming from the national 6/49 lottery game in Canada. The data set has data for 3,665 drawings, dating from 1982 to 2018 (we'll come back to this).\n",
    "\n",
    "During this project we will need to compute a lot of factorial and combination, that will allow us to calculate probabilities. Let's define those two functions."
   ]
  },
  {
   "cell_type": "code",
   "execution_count": 67,
   "metadata": {
    "collapsed": true
   },
   "outputs": [],
   "source": [
    "import pandas as pd\n",
    "import numpy as np\n",
    "import matplotlib.pyplot as plt\n",
    "import re \n",
    "import seaborn as sns"
   ]
  },
  {
   "cell_type": "code",
   "execution_count": 7,
   "metadata": {
    "collapsed": true
   },
   "outputs": [],
   "source": [
    "def factorial(n):\n",
    "    result = 1\n",
    "    for i in range(1,n+1):\n",
    "        result *= i\n",
    "    return result"
   ]
  },
  {
   "cell_type": "code",
   "execution_count": 11,
   "metadata": {
    "collapsed": false
   },
   "outputs": [],
   "source": [
    "def combinations(n,k):\n",
    "    return factorial(n)/(factorial(k)*factorial(n-k))"
   ]
  },
  {
   "cell_type": "markdown",
   "metadata": {},
   "source": [
    "In the 6/49 lottery, six numbers are drawn from a set of 49 numbers that range from 1 to 49. A player wins the big prize if the six numbers on their tickets match all the six numbers drawn. If a player has a ticket with the numbers {13, 22, 24, 27, 42, 44}, he only wins the big prize if the numbers drawn are {13, 22, 24, 27, 42, 44}. If only one number differs, he doesn't win.\n",
    "\n",
    "We discussed with the engineering team of the medical institute, and they told us we need to be aware of the following details when we write the function:\n",
    "\n",
    "- Inside the app, the user inputs six different numbers from 1 to 49.\n",
    "- Under the hood, the six numbers will come as a Python list, which will serve as the single input to our function.\n",
    "- The engineering team wants the function to print the probability value in a friendly way — in a way that people without any probability training are able to understand."
   ]
  },
  {
   "cell_type": "code",
   "execution_count": 165,
   "metadata": {
    "collapsed": false
   },
   "outputs": [],
   "source": [
    "def bigprize(numbers):\n",
    "    if len(numbers) != 6:\n",
    "        return \"You must give 6 numbers\"\n",
    "    for i in numbers:\n",
    "        count = numbers.count(i)\n",
    "        if count > 1:\n",
    "            return \"You must specify 6 unique numbers\"\n",
    "            break\n",
    "        if i > 49:\n",
    "            return \"You must specifiy values between 1 and 49\"\n",
    "            break\n",
    "        if i < 0:\n",
    "            return \"You must specifiy values between 1 and 49\"\n",
    "            break\n",
    "        else: \n",
    "            continue\n",
    "    return print(\"You have 1 chance out of {:,}\".format(int(combinations(49,len(numbers)))),\"to win. This corresponds to\",'{0:.7f}'.format((1/combinations(49,len(numbers)))*100) ,\"% chance of winning\")\n"
   ]
  },
  {
   "cell_type": "code",
   "execution_count": 166,
   "metadata": {
    "collapsed": false,
    "scrolled": true
   },
   "outputs": [
    {
     "name": "stdout",
     "output_type": "stream",
     "text": [
      "You have 1 chance out of 13,983,816 to win. This corresponds to 0.0000072 % chance of winning\n"
     ]
    }
   ],
   "source": [
    "#exemple \n",
    "bigprize([2,3,4,5,6,9])"
   ]
  },
  {
   "cell_type": "markdown",
   "metadata": {},
   "source": [
    "We wrote a function that can tell users what is the probability of winning the big prize with a single ticket. For the first version of the app, however, users should also be able to compare their ticket against the historical lottery data in Canada and determine whether they would have ever won by now. Let's explore the historical data coming from the Canada 6/49 lottery. The data set can be downloaded from [Kaggle](https://www.kaggle.com/datascienceai/lottery-dataset)."
   ]
  },
  {
   "cell_type": "code",
   "execution_count": 71,
   "metadata": {
    "collapsed": false
   },
   "outputs": [
    {
     "data": {
      "text/html": [
       "<div>\n",
       "<style scoped>\n",
       "    .dataframe tbody tr th:only-of-type {\n",
       "        vertical-align: middle;\n",
       "    }\n",
       "\n",
       "    .dataframe tbody tr th {\n",
       "        vertical-align: top;\n",
       "    }\n",
       "\n",
       "    .dataframe thead th {\n",
       "        text-align: right;\n",
       "    }\n",
       "</style>\n",
       "<table border=\"1\" class=\"dataframe\">\n",
       "  <thead>\n",
       "    <tr style=\"text-align: right;\">\n",
       "      <th></th>\n",
       "      <th>PRODUCT</th>\n",
       "      <th>DRAW NUMBER</th>\n",
       "      <th>SEQUENCE NUMBER</th>\n",
       "      <th>DRAW DATE</th>\n",
       "      <th>NUMBER DRAWN 1</th>\n",
       "      <th>NUMBER DRAWN 2</th>\n",
       "      <th>NUMBER DRAWN 3</th>\n",
       "      <th>NUMBER DRAWN 4</th>\n",
       "      <th>NUMBER DRAWN 5</th>\n",
       "      <th>NUMBER DRAWN 6</th>\n",
       "      <th>BONUS NUMBER</th>\n",
       "    </tr>\n",
       "  </thead>\n",
       "  <tbody>\n",
       "    <tr>\n",
       "      <th>0</th>\n",
       "      <td>649</td>\n",
       "      <td>1</td>\n",
       "      <td>0</td>\n",
       "      <td>6/12/1982</td>\n",
       "      <td>3</td>\n",
       "      <td>11</td>\n",
       "      <td>12</td>\n",
       "      <td>14</td>\n",
       "      <td>41</td>\n",
       "      <td>43</td>\n",
       "      <td>13</td>\n",
       "    </tr>\n",
       "    <tr>\n",
       "      <th>1</th>\n",
       "      <td>649</td>\n",
       "      <td>2</td>\n",
       "      <td>0</td>\n",
       "      <td>6/19/1982</td>\n",
       "      <td>8</td>\n",
       "      <td>33</td>\n",
       "      <td>36</td>\n",
       "      <td>37</td>\n",
       "      <td>39</td>\n",
       "      <td>41</td>\n",
       "      <td>9</td>\n",
       "    </tr>\n",
       "  </tbody>\n",
       "</table>\n",
       "</div>"
      ],
      "text/plain": [
       "   PRODUCT  DRAW NUMBER  SEQUENCE NUMBER  DRAW DATE  NUMBER DRAWN 1  \\\n",
       "0      649            1                0  6/12/1982               3   \n",
       "1      649            2                0  6/19/1982               8   \n",
       "\n",
       "   NUMBER DRAWN 2  NUMBER DRAWN 3  NUMBER DRAWN 4  NUMBER DRAWN 5  \\\n",
       "0              11              12              14              41   \n",
       "1              33              36              37              39   \n",
       "\n",
       "   NUMBER DRAWN 6  BONUS NUMBER  \n",
       "0              43            13  \n",
       "1              41             9  "
      ]
     },
     "execution_count": 71,
     "metadata": {},
     "output_type": "execute_result"
    }
   ],
   "source": [
    "lottery = pd.read_csv(\"649.csv\")\n",
    "lottery.head(2) "
   ]
  },
  {
   "cell_type": "code",
   "execution_count": 74,
   "metadata": {
    "collapsed": false
   },
   "outputs": [
    {
     "data": {
      "text/html": [
       "<div>\n",
       "<style scoped>\n",
       "    .dataframe tbody tr th:only-of-type {\n",
       "        vertical-align: middle;\n",
       "    }\n",
       "\n",
       "    .dataframe tbody tr th {\n",
       "        vertical-align: top;\n",
       "    }\n",
       "\n",
       "    .dataframe thead th {\n",
       "        text-align: right;\n",
       "    }\n",
       "</style>\n",
       "<table border=\"1\" class=\"dataframe\">\n",
       "  <thead>\n",
       "    <tr style=\"text-align: right;\">\n",
       "      <th></th>\n",
       "      <th>PRODUCT</th>\n",
       "      <th>DRAW NUMBER</th>\n",
       "      <th>SEQUENCE NUMBER</th>\n",
       "      <th>DRAW DATE</th>\n",
       "      <th>NUMBER DRAWN 1</th>\n",
       "      <th>NUMBER DRAWN 2</th>\n",
       "      <th>NUMBER DRAWN 3</th>\n",
       "      <th>NUMBER DRAWN 4</th>\n",
       "      <th>NUMBER DRAWN 5</th>\n",
       "      <th>NUMBER DRAWN 6</th>\n",
       "      <th>BONUS NUMBER</th>\n",
       "    </tr>\n",
       "  </thead>\n",
       "  <tbody>\n",
       "    <tr>\n",
       "      <th>3663</th>\n",
       "      <td>649</td>\n",
       "      <td>3590</td>\n",
       "      <td>0</td>\n",
       "      <td>6/16/2018</td>\n",
       "      <td>2</td>\n",
       "      <td>15</td>\n",
       "      <td>21</td>\n",
       "      <td>31</td>\n",
       "      <td>38</td>\n",
       "      <td>49</td>\n",
       "      <td>8</td>\n",
       "    </tr>\n",
       "    <tr>\n",
       "      <th>3664</th>\n",
       "      <td>649</td>\n",
       "      <td>3591</td>\n",
       "      <td>0</td>\n",
       "      <td>6/20/2018</td>\n",
       "      <td>14</td>\n",
       "      <td>24</td>\n",
       "      <td>31</td>\n",
       "      <td>35</td>\n",
       "      <td>37</td>\n",
       "      <td>48</td>\n",
       "      <td>17</td>\n",
       "    </tr>\n",
       "  </tbody>\n",
       "</table>\n",
       "</div>"
      ],
      "text/plain": [
       "      PRODUCT  DRAW NUMBER  SEQUENCE NUMBER  DRAW DATE  NUMBER DRAWN 1  \\\n",
       "3663      649         3590                0  6/16/2018               2   \n",
       "3664      649         3591                0  6/20/2018              14   \n",
       "\n",
       "      NUMBER DRAWN 2  NUMBER DRAWN 3  NUMBER DRAWN 4  NUMBER DRAWN 5  \\\n",
       "3663              15              21              31              38   \n",
       "3664              24              31              35              37   \n",
       "\n",
       "      NUMBER DRAWN 6  BONUS NUMBER  \n",
       "3663              49             8  \n",
       "3664              48            17  "
      ]
     },
     "execution_count": 74,
     "metadata": {},
     "output_type": "execute_result"
    }
   ],
   "source": [
    "lottery.tail(2)"
   ]
  },
  {
   "cell_type": "markdown",
   "metadata": {},
   "source": [
    "### Historical Data Check for Canada Lottery\n",
    "\n",
    "Let's write a function that will enable users to compare their ticket against the historical lottery data in Canada (1982-2018) and determine whether they would have ever won by now! That should show us how few chances they have to win one day.\n",
    "\n",
    "The engineering team wants us to write a function that prints:\n",
    "\n",
    "- the number of times the combination selected occurred; and\n",
    "- the probability of winning the big prize in the next drawing with that combination."
   ]
  },
  {
   "cell_type": "code",
   "execution_count": 167,
   "metadata": {
    "collapsed": false
   },
   "outputs": [],
   "source": [
    "# First we extract all the winnings numbers since 1982 to a new series\n",
    "\n",
    "def extract_numbers(row):\n",
    "    winning = set()\n",
    "    for i in row[4:10]:\n",
    "        winning.add(i)\n",
    "    return winning\n",
    "\n",
    "# Then we apply it to our Dataframe Lottery to obtain a series with all the winning numbers\n",
    "all_winning_numbers = lottery.apply(extract_numbers,1)"
   ]
  },
  {
   "cell_type": "code",
   "execution_count": 172,
   "metadata": {
    "collapsed": false
   },
   "outputs": [],
   "source": [
    "def check_historical(numbers):\n",
    "    if len(numbers) != 6:\n",
    "        return \"You must give 6 numbers\"\n",
    "    for i in numbers:\n",
    "        count = numbers.count(i)\n",
    "        if count > 1:\n",
    "            return \"You must specify 6 unique numbers\"\n",
    "            break\n",
    "        if i > 49:\n",
    "            return \"You must specifiy values between 1 and 49\"\n",
    "            break\n",
    "        if i < 0:\n",
    "            return \"You must specifiy values between 1 and 49\"\n",
    "            break\n",
    "        else: \n",
    "            continue\n",
    "    count = 0\n",
    "    for i in all_winning_numbers:\n",
    "        if i == set(numbers):\n",
    "            count += 1       \n",
    "    return print(\"Since 1982, if you had played your numbers at every single 649 Lotto, you would have won\", count, \"times, congrats! Actually you have 1 chance out of {:,}\".format(int(combinations(49,len(numbers)))),\"to win. This corresponds to\",'{0:.7f}'.format((1/combinations(49,len(numbers)))*100) ,\"% chance of winning.\")\n"
   ]
  },
  {
   "cell_type": "code",
   "execution_count": 173,
   "metadata": {
    "collapsed": false
   },
   "outputs": [
    {
     "name": "stdout",
     "output_type": "stream",
     "text": [
      "Since 1982, if you had played your numbers at every single 649 Lotto, you would have won 1 times, congrats! Actually you have 1 chance out of 13,983,816 to win. This corresponds to 0.0000072 % chance of winning.\n"
     ]
    }
   ],
   "source": [
    "#Let's check if it works with the first winning numbers!\n",
    "check_historical([3, 11, 12, 14, 41,43])"
   ]
  },
  {
   "cell_type": "markdown",
   "metadata": {},
   "source": [
    "Lottery addicts usually play more than one ticket on a single drawing, thinking that this might increase their chances of winning significantly. Our purpose is to help them better estimate their chances of winning — on this screen, we're going to write a function that will allow the users to calculate the chances of winning for any number of different tickets."
   ]
  },
  {
   "cell_type": "code",
   "execution_count": 191,
   "metadata": {
    "collapsed": false
   },
   "outputs": [],
   "source": [
    "def several_tickets(n):\n",
    "    total_combinations = combinations(49,6)\n",
    "    proba_to_win = (n/total_combinations)*100\n",
    "    return print(\"You think buying\", n,\"tickets will help you? You have now\",'{0:.7f}'.format(proba_to_win) ,\"% chance of winning, not so much right? It's actually 1 chance out of\", round(total_combinations/n))"
   ]
  },
  {
   "cell_type": "markdown",
   "metadata": {},
   "source": [
    "Let's see if you have some real chances to win the jackpot by buying a lot of tickets!"
   ]
  },
  {
   "cell_type": "code",
   "execution_count": 195,
   "metadata": {
    "collapsed": false
   },
   "outputs": [
    {
     "name": "stdout",
     "output_type": "stream",
     "text": [
      "You think buying 1 tickets will help you? You have now 0.0000072 % chance of winning, not so much right? It's actually 1 chance out of 13983816\n",
      "------------------------\n",
      "You think buying 10 tickets will help you? You have now 0.0000715 % chance of winning, not so much right? It's actually 1 chance out of 1398382\n",
      "------------------------\n",
      "You think buying 100 tickets will help you? You have now 0.0007151 % chance of winning, not so much right? It's actually 1 chance out of 139838\n",
      "------------------------\n",
      "You think buying 10000 tickets will help you? You have now 0.0715112 % chance of winning, not so much right? It's actually 1 chance out of 1398\n",
      "------------------------\n",
      "You think buying 1000000 tickets will help you? You have now 7.1511238 % chance of winning, not so much right? It's actually 1 chance out of 14\n",
      "------------------------\n",
      "You think buying 6991908 tickets will help you? You have now 50.0000000 % chance of winning, not so much right? It's actually 1 chance out of 2\n",
      "------------------------\n",
      "You think buying 13983816 tickets will help you? You have now 100.0000000 % chance of winning, not so much right? It's actually 1 chance out of 1\n",
      "------------------------\n"
     ]
    }
   ],
   "source": [
    "for i in [1, 10, 100, 10000, 1000000, 6991908, 13983816]:\n",
    "    several_tickets(i)\n",
    "    print('------------------------')"
   ]
  },
  {
   "cell_type": "markdown",
   "metadata": {},
   "source": [
    "### Less Winning Numbers — Function\n",
    " \n",
    "In most 6/49 lotteries there are smaller prizes if a player's ticket match two, three, four, or five of the six numbers drawn. As a consequence, the users might be interested in knowing the probability of having two, three, four, or five winning numbers.\n",
    "\n",
    "These are the engineering details we'll need to be aware of:\n",
    "\n",
    "Inside the app, the user inputs:\n",
    "\n",
    "- six different numbers from 1 to 49; and\n",
    "- an integer between 2 and 5 that represents the number of winning numbers expected\n",
    "\n",
    "Our function prints information about the probability of having the inputted number of winning numbers."
   ]
  },
  {
   "cell_type": "code",
   "execution_count": 251,
   "metadata": {
    "collapsed": false
   },
   "outputs": [],
   "source": [
    "def smaller_prices(n):\n",
    "    if (n < 2) or (n > 5):\n",
    "        return \"n must be an integer between 2 and 5!\"\n",
    "    total_combinations = combinations(49,6)\n",
    "    n_combinations = combinations(6,n)\n",
    "    combinations_left = combinations(43, 6 - n)\n",
    "    proba = (n_combinations*combinations_left/total_combinations)*100\n",
    "    return print(\"You have\",'{0:.7f}'.format(proba) ,\"% chance of having {}\".format(n), \"winning numbers\")\n"
   ]
  },
  {
   "cell_type": "markdown",
   "metadata": {},
   "source": [
    "Now let's try our new function :"
   ]
  },
  {
   "cell_type": "code",
   "execution_count": 253,
   "metadata": {
    "collapsed": false
   },
   "outputs": [
    {
     "name": "stdout",
     "output_type": "stream",
     "text": [
      "You have 13.2378029 % chance of having 2 winning numbers\n",
      "--------------------------\n",
      "You have 1.7650404 % chance of having 3 winning numbers\n",
      "--------------------------\n",
      "You have 0.0968620 % chance of having 4 winning numbers\n",
      "--------------------------\n",
      "You have 0.0018450 % chance of having 5 winning numbers\n",
      "--------------------------\n"
     ]
    }
   ],
   "source": [
    "for n in [2, 3, 4, 5]:\n",
    "    smaller_prices(n)\n",
    "    print('--------------------------') "
   ]
  },
  {
   "cell_type": "code",
   "execution_count": null,
   "metadata": {
    "collapsed": true
   },
   "outputs": [],
   "source": []
  }
 ],
 "metadata": {
  "kernelspec": {
   "display_name": "Python 3",
   "language": "python",
   "name": "python3"
  },
  "language_info": {
   "codemirror_mode": {
    "name": "ipython",
    "version": 3
   },
   "file_extension": ".py",
   "mimetype": "text/x-python",
   "name": "python",
   "nbconvert_exporter": "python",
   "pygments_lexer": "ipython3",
   "version": "3.4.3"
  }
 },
 "nbformat": 4,
 "nbformat_minor": 2
}
